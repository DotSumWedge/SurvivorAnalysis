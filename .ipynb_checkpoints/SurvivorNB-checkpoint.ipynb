{
 "cells": [
  {
   "cell_type": "markdown",
   "id": "9515a973",
   "metadata": {},
   "source": [
    "## Survivor Data Analysis Project"
   ]
  },
  {
   "cell_type": "markdown",
   "id": "af892842",
   "metadata": {},
   "source": [
    "### Introduction to Data"
   ]
  },
  {
   "cell_type": "markdown",
<<<<<<< HEAD
   "id": "b575970f",
=======
   "id": "b90f61de",
>>>>>>> df74cc44af45e1e45d8cbd6ba36161fcc7da3aef
   "metadata": {},
   "source": [
    "This data is found in an R package called survivoR which contains a collection of data sets with information from the Survivor show from multiple countries: US, Australia, South Africa, and New Zealand. It contains castaway information, vote history, immunity and reward challenge winners, jury votes, advantage details and much more. \n",
    "\n",
    "Our goal is to find the attributes which can be used to predict the winner of the Survivor season."
   ]
  },
  {
   "cell_type": "markdown",
   "id": "073784fc",
   "metadata": {},
   "source": [
    "### Purpose of the Data"
   ]
  },
  {
   "cell_type": "markdown",
   "id": "a4394496",
   "metadata": {},
   "source": [
    "The survivor data was collected to draw insights and answer questions one may have when coming to the game of “Survivor.” Examples on why people may want to use the data is dive into seeing if their are certain attributes that the people who win the show share. "
   ]
  },
  {
   "cell_type": "markdown",
   "id": "4a3aa4de",
   "metadata": {},
   "source": [
    "### Import Dependencies"
   ]
  },
  {
   "cell_type": "code",
   "execution_count": 13,
   "id": "0223f932",
   "metadata": {},
   "outputs": [],
   "source": [
    "import tensorflow as tf\n",
    "from tensorflow import keras\n",
    "from tensorflow.keras import layers\n",
    "from sklearn.model_selection import train_test_split\n",
    "import pandas as pd\n",
    "import matplotlib.pyplot as plt\n",
    "import seaborn as sns\n",
    "import sys\n",
    "import math\n",
    "import os"
   ]
  },
  {
   "cell_type": "code",
   "execution_count": 14,
   "id": "2f4e2ba0",
   "metadata": {},
   "outputs": [],
   "source": [
    "data_dir = 'C:/Users/bejes/OneDrive/School/ML/Code/Project1/survivorData'"
   ]
  },
  {
   "cell_type": "markdown",
   "id": "ffda0bc7",
   "metadata": {},
   "source": [
    "### Read in csv files as Dataframes"
   ]
  },
  {
   "cell_type": "code",
   "execution_count": 15,
   "id": "c9108e6d",
   "metadata": {},
   "outputs": [
    {
     "name": "stdout",
     "output_type": "stream",
     "text": [
      "  version version_season               season_name  season        full_name  \\\n",
      "0      AU           AU01  Survivor Australia: 2016       1       Des Quilty   \n",
      "1      AU           AU01  Survivor Australia: 2016       1  Bianca Anderson   \n",
      "2      AU           AU01  Survivor Australia: 2016       1       Evan Jones   \n",
      "3      AU           AU01  Survivor Australia: 2016       1   Peter Fiegehen   \n",
      "4      AU           AU01  Survivor Australia: 2016       1        Barry Lea   \n",
      "\n",
      "  castaway_id castaway  age            city state  episode   day  order  \\\n",
      "0      AU0001      Des   59  Sunshine Coast   QLD      1.0   2.0    1.0   \n",
      "1      AU0002   Bianca   36       Melbourne   VIC      2.0   5.0    2.0   \n",
      "2      AU0003     Evan   30       Melbourne   VIC      3.0   8.0    3.0   \n",
      "3      AU0004    Peter   62        Canberra   ACT      4.0  10.0    4.0   \n",
      "4      AU0005    Barry   44          Cairns   QLD      6.0  14.0    5.0   \n",
      "\n",
      "          result jury_status original_tribe  result_number  \n",
      "0  1st voted out         NaN         Aganoa            NaN  \n",
      "1  2nd voted out         NaN        Saanapu            NaN  \n",
      "2  3rd voted out         NaN         Aganoa            NaN  \n",
      "3           Quit         NaN        Saanapu            NaN  \n",
      "4  4th voted out         NaN          Vavau            NaN  \n"
     ]
    }
   ],
   "source": [
    "# List of CSV file names\n",
    "csv_files = [\n",
    "    'advantage_movement.csv',\n",
    "    'boot_mapping.csv',\n",
    "    'castaways.csv',\n",
    "    'castaway_details.csv',\n",
    "    'challenge_description.csv',\n",
    "    'challenge_results.csv',\n",
    "    'confessionals.csv',\n",
    "    'jury_votes.csv',\n",
    "    'screen_time.csv',\n",
    "    'season_palettes.csv',\n",
    "    'season_summary.csv',\n",
    "    'survivor_auction.csv',\n",
    "    'tribe_colours.csv',\n",
    "    'tribe_mapping.csv',\n",
    "    'viewers.csv',\n",
    "    'vote_history.csv'\n",
    "]\n",
    "\n",
    "# Create a dictionary to store the DataFrames\n",
    "dataframes = {}\n",
    "\n",
    "# Loop through each CSV file and read its data into a DataFrame\n",
    "for csv_file in csv_files:\n",
    "    # Specify the relative path to the CSV file\n",
    "    file_path = os.path.join(data_dir, csv_file)\n",
    "    \n",
    "    # Read the data from the CSV file into a pandas DataFrame\n",
    "    df = pd.read_csv(file_path)\n",
    "    \n",
    "    # Store the DataFrame in the dictionary\n",
    "    dataframes[csv_file] = df\n",
    "    \n",
    "    # Print the head of the DataFrame\n",
    "    # print(f'{csv_file}:')\n",
    "    # print(df.head())\n",
    "    \n",
    "# Print out the head of the castaways.csv data\n",
    "print(dataframes['castaways.csv'].head())"
   ]
  },
  {
   "cell_type": "code",
   "execution_count": 16,
   "id": "29d247d3",
   "metadata": {},
   "outputs": [],
   "source": [
    "advantage_movement = dataframes['advantage_movement.csv']\n",
    "boot_mapping = dataframes['boot_mapping.csv']\n",
    "castaway_details =  dataframes['castaway_details.csv']\n",
    "castaways =  dataframes['castaways.csv']\n",
    "challenge_description =  dataframes['challenge_description.csv']\n",
    "challenge_results =  dataframes['challenge_results.csv']\n",
    "confessionals =  dataframes['confessionals.csv']\n",
    "jury_votes =  dataframes['jury_votes.csv']\n",
    "screen_time =  dataframes['screen_time.csv']\n",
    "season_palettes =  dataframes['season_palettes.csv']\n",
    "season_summary =  dataframes['season_summary.csv']\n",
    "survivor_autction =  dataframes['survivor_auction.csv']\n",
    "tribe_colors =  dataframes['tribe_colours.csv']\n",
    "tribe_mapping =  dataframes['tribe_mapping.csv']\n",
    "viewers =  dataframes['viewers.csv']\n",
    "vote_history =  dataframes['vote_history.csv']"
   ]
  },
  {
   "cell_type": "markdown",
   "id": "531e6211",
   "metadata": {},
   "source": [
    "## Data Exploration"
   ]
  },
  {
   "cell_type": "markdown",
<<<<<<< HEAD
   "id": "0fe3df7a",
=======
   "id": "675357c8",
   "metadata": {},
   "source": [
    "#### Missing Values"
   ]
  },
  {
   "cell_type": "markdown",
   "id": "6ac0bcba",
   "metadata": {},
   "source": [
    "There are missing values in almost all the tables apart of this Survivor data. Columns such as \"race\" and \"personality_type\" have many NA's. It would be very time consuming to manually fill these in, but doing so would allow us to use these columns in future models, and possibly find out that race and personality type play a big role in winning Survivor. \n",
    "\n",
    "Shown below is a total of 977 rows in the castaway_details table, and we are missing 766 peoples race, which is a big chunk of missing data if we wanted to model as accurately as possible."
   ]
  },
  {
   "cell_type": "code",
   "execution_count": 45,
   "id": "aaf02f97",
   "metadata": {},
   "outputs": [
    {
     "name": "stdout",
     "output_type": "stream",
     "text": [
      "977\n"
     ]
    },
    {
     "data": {
      "text/plain": [
       "castaway_id             0\n",
       "full_name               2\n",
       "full_name_detailed      2\n",
       "castaway                0\n",
       "date_of_birth         214\n",
       "date_of_death         964\n",
       "gender                  0\n",
       "race                  766\n",
       "ethnicity             864\n",
       "poc                   315\n",
       "occupation             40\n",
       "personality_type      321\n",
       "dtype: int64"
      ]
     },
     "execution_count": 45,
     "metadata": {},
     "output_type": "execute_result"
    }
   ],
   "source": [
    "print(len(castaway_details))\n",
    "castaway_details.isna().sum()"
   ]
  },
  {
   "cell_type": "markdown",
   "id": "b81fffef",
>>>>>>> df74cc44af45e1e45d8cbd6ba36161fcc7da3aef
   "metadata": {},
   "source": [
    "#### Season Summary\n",
    "\n",
    "This table contains summary details of each season of Survivor, including the winner, runner ups and location."
   ]
  },
  {
   "cell_type": "code",
<<<<<<< HEAD
   "execution_count": 72,
   "id": "e34cf794",
=======
   "execution_count": 31,
   "id": "33366bf7",
>>>>>>> df74cc44af45e1e45d8cbd6ba36161fcc7da3aef
   "metadata": {},
   "outputs": [
    {
     "name": "stdout",
     "output_type": "stream",
     "text": [
      "<class 'pandas.core.frame.DataFrame'>\n",
      "RangeIndex: 62 entries, 0 to 61\n",
      "Data columns (total 23 columns):\n",
      " #   Column            Non-Null Count  Dtype  \n",
      "---  ------            --------------  -----  \n",
      " 0   version           62 non-null     object \n",
      " 1   version_season    62 non-null     object \n",
      " 2   season_name       62 non-null     object \n",
      " 3   season            62 non-null     int64  \n",
      " 4   n_cast            62 non-null     int64  \n",
      " 5   location          60 non-null     object \n",
      " 6   country           62 non-null     object \n",
      " 7   tribe_setup       62 non-null     object \n",
      " 8   full_name         61 non-null     object \n",
      " 9   winner_id         61 non-null     object \n",
      " 10  winner            61 non-null     object \n",
      " 11  runner_ups        61 non-null     object \n",
      " 12  final_vote        61 non-null     object \n",
      " 13  timeslot          48 non-null     object \n",
      " 14  premiered         62 non-null     object \n",
      " 15  ended             62 non-null     object \n",
      " 16  filming_started   62 non-null     object \n",
      " 17  filming_ended     62 non-null     object \n",
      " 18  viewers_premiere  44 non-null     float64\n",
      " 19  viewers_finale    43 non-null     float64\n",
      " 20  viewers_reunion   42 non-null     float64\n",
      " 21  viewers_mean      40 non-null     float64\n",
      " 22  rank              38 non-null     float64\n",
      "dtypes: float64(5), int64(2), object(16)\n",
      "memory usage: 11.3+ KB\n"
     ]
    },
    {
     "data": {
      "text/html": [
       "<div>\n",
       "<style scoped>\n",
       "    .dataframe tbody tr th:only-of-type {\n",
       "        vertical-align: middle;\n",
       "    }\n",
       "\n",
       "    .dataframe tbody tr th {\n",
       "        vertical-align: top;\n",
       "    }\n",
       "\n",
       "    .dataframe thead th {\n",
       "        text-align: right;\n",
       "    }\n",
       "</style>\n",
       "<table border=\"1\" class=\"dataframe\">\n",
       "  <thead>\n",
       "    <tr style=\"text-align: right;\">\n",
       "      <th></th>\n",
       "      <th>season</th>\n",
       "      <th>n_cast</th>\n",
       "      <th>viewers_premiere</th>\n",
       "      <th>viewers_finale</th>\n",
       "      <th>viewers_reunion</th>\n",
       "      <th>viewers_mean</th>\n",
       "      <th>rank</th>\n",
       "    </tr>\n",
       "  </thead>\n",
       "  <tbody>\n",
       "    <tr>\n",
       "      <th>count</th>\n",
       "      <td>62.000000</td>\n",
       "      <td>62.000000</td>\n",
       "      <td>44.000000</td>\n",
       "      <td>43.000000</td>\n",
       "      <td>42.000000</td>\n",
       "      <td>40.000000</td>\n",
       "      <td>38.000000</td>\n",
       "    </tr>\n",
       "    <tr>\n",
       "      <th>mean</th>\n",
       "      <td>17.290323</td>\n",
       "      <td>19.016129</td>\n",
       "      <td>32331.880455</td>\n",
       "      <td>36735.523256</td>\n",
       "      <td>12107.071190</td>\n",
       "      <td>32652.717038</td>\n",
       "      <td>16.684211</td>\n",
       "    </tr>\n",
       "    <tr>\n",
       "      <th>std</th>\n",
       "      <td>13.625419</td>\n",
       "      <td>2.505678</td>\n",
       "      <td>150612.284433</td>\n",
       "      <td>168907.735458</td>\n",
       "      <td>78384.231661</td>\n",
       "      <td>144347.279744</td>\n",
       "      <td>9.424251</td>\n",
       "    </tr>\n",
       "    <tr>\n",
       "      <th>min</th>\n",
       "      <td>1.000000</td>\n",
       "      <td>14.000000</td>\n",
       "      <td>5.040000</td>\n",
       "      <td>5.820000</td>\n",
       "      <td>4.000000</td>\n",
       "      <td>9.430000</td>\n",
       "      <td>1.000000</td>\n",
       "    </tr>\n",
       "    <tr>\n",
       "      <th>25%</th>\n",
       "      <td>5.250000</td>\n",
       "      <td>18.000000</td>\n",
       "      <td>9.285000</td>\n",
       "      <td>9.560000</td>\n",
       "      <td>6.695000</td>\n",
       "      <td>11.300000</td>\n",
       "      <td>8.250000</td>\n",
       "    </tr>\n",
       "    <tr>\n",
       "      <th>50%</th>\n",
       "      <td>13.500000</td>\n",
       "      <td>18.000000</td>\n",
       "      <td>11.945000</td>\n",
       "      <td>13.300000</td>\n",
       "      <td>11.435000</td>\n",
       "      <td>13.235000</td>\n",
       "      <td>16.000000</td>\n",
       "    </tr>\n",
       "    <tr>\n",
       "      <th>75%</th>\n",
       "      <td>28.750000</td>\n",
       "      <td>20.000000</td>\n",
       "      <td>19.415000</td>\n",
       "      <td>20.990000</td>\n",
       "      <td>15.225000</td>\n",
       "      <td>20.150000</td>\n",
       "      <td>25.000000</td>\n",
       "    </tr>\n",
       "    <tr>\n",
       "      <th>max</th>\n",
       "      <td>44.000000</td>\n",
       "      <td>24.000000</td>\n",
       "      <td>783000.000000</td>\n",
       "      <td>859000.000000</td>\n",
       "      <td>508000.000000</td>\n",
       "      <td>691769.230769</td>\n",
       "      <td>32.000000</td>\n",
       "    </tr>\n",
       "  </tbody>\n",
       "</table>\n",
       "</div>"
      ],
      "text/plain": [
       "          season     n_cast  viewers_premiere  viewers_finale  \\\n",
       "count  62.000000  62.000000         44.000000       43.000000   \n",
       "mean   17.290323  19.016129      32331.880455    36735.523256   \n",
       "std    13.625419   2.505678     150612.284433   168907.735458   \n",
       "min     1.000000  14.000000          5.040000        5.820000   \n",
       "25%     5.250000  18.000000          9.285000        9.560000   \n",
       "50%    13.500000  18.000000         11.945000       13.300000   \n",
       "75%    28.750000  20.000000         19.415000       20.990000   \n",
       "max    44.000000  24.000000     783000.000000   859000.000000   \n",
       "\n",
       "       viewers_reunion   viewers_mean       rank  \n",
       "count        42.000000      40.000000  38.000000  \n",
       "mean      12107.071190   32652.717038  16.684211  \n",
       "std       78384.231661  144347.279744   9.424251  \n",
       "min           4.000000       9.430000   1.000000  \n",
       "25%           6.695000      11.300000   8.250000  \n",
       "50%          11.435000      13.235000  16.000000  \n",
       "75%          15.225000      20.150000  25.000000  \n",
       "max      508000.000000  691769.230769  32.000000  "
      ]
     },
     "execution_count": 31,
     "metadata": {},
     "output_type": "execute_result"
    }
   ],
   "source": [
    "season_summary.info()\n",
    "season_summary.head()\n",
    "season_summary.describe()"
   ]
  },
  {
   "cell_type": "code",
<<<<<<< HEAD
   "execution_count": 75,
   "id": "8fb1c81f",
=======
   "execution_count": 18,
   "id": "924fa016",
>>>>>>> df74cc44af45e1e45d8cbd6ba36161fcc7da3aef
   "metadata": {},
   "outputs": [
    {
     "data": {
      "text/html": [
       "<div>\n",
       "<style scoped>\n",
       "    .dataframe tbody tr th:only-of-type {\n",
       "        vertical-align: middle;\n",
       "    }\n",
       "\n",
       "    .dataframe tbody tr th {\n",
       "        vertical-align: top;\n",
       "    }\n",
       "\n",
       "    .dataframe thead th {\n",
       "        text-align: right;\n",
       "    }\n",
       "</style>\n",
       "<table border=\"1\" class=\"dataframe\">\n",
       "  <thead>\n",
       "    <tr style=\"text-align: right;\">\n",
       "      <th></th>\n",
       "      <th>version_season</th>\n",
       "      <th>winner_id</th>\n",
       "    </tr>\n",
       "  </thead>\n",
       "  <tbody>\n",
       "    <tr>\n",
       "      <th>0</th>\n",
       "      <td>AU01</td>\n",
       "      <td>AU0024</td>\n",
       "    </tr>\n",
       "    <tr>\n",
       "      <th>1</th>\n",
       "      <td>AU02</td>\n",
       "      <td>AU0048</td>\n",
       "    </tr>\n",
       "    <tr>\n",
       "      <th>2</th>\n",
       "      <td>AU03</td>\n",
       "      <td>AU0071</td>\n",
       "    </tr>\n",
       "    <tr>\n",
       "      <th>3</th>\n",
       "      <td>AU04</td>\n",
       "      <td>AU0094</td>\n",
       "    </tr>\n",
       "    <tr>\n",
       "      <th>4</th>\n",
       "      <td>AU05</td>\n",
       "      <td>AU0086</td>\n",
       "    </tr>\n",
       "  </tbody>\n",
       "</table>\n",
       "</div>"
      ],
      "text/plain": [
       "  version_season winner_id\n",
       "0           AU01    AU0024\n",
       "1           AU02    AU0048\n",
       "2           AU03    AU0071\n",
       "3           AU04    AU0094\n",
       "4           AU05    AU0086"
      ]
     },
     "execution_count": 18,
     "metadata": {},
     "output_type": "execute_result"
    }
   ],
   "source": [
    "winner_df = season_summary[[\"version_season\", \"winner_id\"]]\n",
    "winner_df.head()"
   ]
  },
  {
   "cell_type": "markdown",
<<<<<<< HEAD
   "id": "72becb51",
=======
   "id": "659363fa",
>>>>>>> df74cc44af45e1e45d8cbd6ba36161fcc7da3aef
   "metadata": {},
   "source": [
    "#### Castaways\n",
    "\n",
    "This data contains season and demographic information about each castaway with the results for each season. Castaways that have played in more than one season are features more than once with their age and location representing that point in time. \n",
    "\n",
    "Each castaway has a unique castaway_id which links the individual across all the data sets and seasons. It also links to the following ID’s found on the vote_history, jury_votes and challenges data sets.\n",
    "\n",
    "    - vote_id\n",
    "    - voted_out_id\n",
    "    - finalist_id"
   ]
  },
  {
   "cell_type": "code",
   "execution_count": 19,
   "id": "5c012f6e",
   "metadata": {},
   "outputs": [
    {
     "name": "stdout",
     "output_type": "stream",
     "text": [
      "<class 'pandas.core.frame.DataFrame'>\n",
      "RangeIndex: 1204 entries, 0 to 1203\n",
      "Data columns (total 17 columns):\n",
      " #   Column          Non-Null Count  Dtype  \n",
      "---  ------          --------------  -----  \n",
      " 0   version         1204 non-null   object \n",
      " 1   version_season  1204 non-null   object \n",
      " 2   season_name     1204 non-null   object \n",
      " 3   season          1204 non-null   int64  \n",
      " 4   full_name       1204 non-null   object \n",
      " 5   castaway_id     1204 non-null   object \n",
      " 6   castaway        1204 non-null   object \n",
      " 7   age             1204 non-null   int64  \n",
      " 8   city            1189 non-null   object \n",
      " 9   state           1185 non-null   object \n",
      " 10  episode         1195 non-null   float64\n",
      " 11  day             1195 non-null   float64\n",
      " 12  order           1195 non-null   float64\n",
      " 13  result          1195 non-null   object \n",
      " 14  jury_status     519 non-null    object \n",
      " 15  original_tribe  1204 non-null   object \n",
      " 16  result_number   9 non-null      float64\n",
      "dtypes: float64(4), int64(2), object(11)\n",
      "memory usage: 160.0+ KB\n"
     ]
    }
   ],
   "source": [
    "castaways.info()"
   ]
  },
  {
   "cell_type": "markdown",
<<<<<<< HEAD
   "id": "dce5d27f",
=======
   "id": "0668556f",
>>>>>>> df74cc44af45e1e45d8cbd6ba36161fcc7da3aef
   "metadata": {},
   "source": [
    "#### Castaway Details\n",
    "\n",
    "This dataset has more detailed information about each castaway including name changes for castaways that have played multiple times. It also includes gender, data of birth, occupation, race and ethnicity data. If no source was found to determine a castaways race and ethnicity, the data is kept as missing rather than making an assumption. This makes it more difficult for us to use attributes such as race and ethnicity which only have 211 and 113 non-null values, respectively. "
   ]
  },
  {
   "cell_type": "code",
   "execution_count": 20,
   "id": "63e8af11",
   "metadata": {},
   "outputs": [
    {
     "name": "stdout",
     "output_type": "stream",
     "text": [
      "<class 'pandas.core.frame.DataFrame'>\n",
      "RangeIndex: 977 entries, 0 to 976\n",
      "Data columns (total 12 columns):\n",
      " #   Column              Non-Null Count  Dtype \n",
      "---  ------              --------------  ----- \n",
      " 0   castaway_id         977 non-null    object\n",
      " 1   full_name           975 non-null    object\n",
      " 2   full_name_detailed  975 non-null    object\n",
      " 3   castaway            977 non-null    object\n",
      " 4   date_of_birth       763 non-null    object\n",
      " 5   date_of_death       13 non-null     object\n",
      " 6   gender              977 non-null    object\n",
      " 7   race                211 non-null    object\n",
      " 8   ethnicity           113 non-null    object\n",
      " 9   poc                 662 non-null    object\n",
      " 10  occupation          937 non-null    object\n",
      " 11  personality_type    656 non-null    object\n",
      "dtypes: object(12)\n",
      "memory usage: 91.7+ KB\n"
     ]
    }
   ],
   "source": [
    "castaway_details.info()"
   ]
  },
  {
   "cell_type": "markdown",
<<<<<<< HEAD
   "id": "6e2533d2",
=======
   "id": "069ac543",
>>>>>>> df74cc44af45e1e45d8cbd6ba36161fcc7da3aef
   "metadata": {},
   "source": [
    "#### Advantage Movement\n",
    "\n",
    "This table tracks who found an advantage, who they may have handed it to and who they played for. Each step is called an event and the sequence_id tracks the logical step of the advantage. "
   ]
  },
  {
   "cell_type": "code",
   "execution_count": 21,
   "id": "599aa687",
   "metadata": {},
   "outputs": [
    {
     "data": {
      "text/html": [
       "<div>\n",
       "<style scoped>\n",
       "    .dataframe tbody tr th:only-of-type {\n",
       "        vertical-align: middle;\n",
       "    }\n",
       "\n",
       "    .dataframe tbody tr th {\n",
       "        vertical-align: top;\n",
       "    }\n",
       "\n",
       "    .dataframe thead th {\n",
       "        text-align: right;\n",
       "    }\n",
       "</style>\n",
       "<table border=\"1\" class=\"dataframe\">\n",
       "  <thead>\n",
       "    <tr style=\"text-align: right;\">\n",
       "      <th></th>\n",
       "      <th>version</th>\n",
       "      <th>version_season</th>\n",
       "      <th>season_name</th>\n",
       "      <th>season</th>\n",
       "      <th>castaway</th>\n",
       "      <th>castaway_id</th>\n",
       "      <th>advantage_id</th>\n",
       "      <th>sequence_id</th>\n",
       "      <th>day</th>\n",
       "      <th>episode</th>\n",
       "      <th>event</th>\n",
       "      <th>played_for</th>\n",
       "      <th>played_for_id</th>\n",
       "      <th>success</th>\n",
       "      <th>votes_nullified</th>\n",
       "    </tr>\n",
       "  </thead>\n",
       "  <tbody>\n",
       "    <tr>\n",
       "      <th>0</th>\n",
       "      <td>AU</td>\n",
       "      <td>AU01</td>\n",
       "      <td>Survivor Australia: 2016</td>\n",
       "      <td>1</td>\n",
       "      <td>Brooke</td>\n",
       "      <td>AU0018</td>\n",
       "      <td>AUAD0101</td>\n",
       "      <td>1</td>\n",
       "      <td>29.0</td>\n",
       "      <td>NaN</td>\n",
       "      <td>Found</td>\n",
       "      <td>NaN</td>\n",
       "      <td>NaN</td>\n",
       "      <td>NaN</td>\n",
       "      <td>NaN</td>\n",
       "    </tr>\n",
       "    <tr>\n",
       "      <th>1</th>\n",
       "      <td>AU</td>\n",
       "      <td>AU01</td>\n",
       "      <td>Survivor Australia: 2016</td>\n",
       "      <td>1</td>\n",
       "      <td>Sam</td>\n",
       "      <td>AU0019</td>\n",
       "      <td>AUCA0101</td>\n",
       "      <td>1</td>\n",
       "      <td>48.0</td>\n",
       "      <td>NaN</td>\n",
       "      <td>Won</td>\n",
       "      <td>NaN</td>\n",
       "      <td>NaN</td>\n",
       "      <td>NaN</td>\n",
       "      <td>NaN</td>\n",
       "    </tr>\n",
       "    <tr>\n",
       "      <th>2</th>\n",
       "      <td>AU</td>\n",
       "      <td>AU01</td>\n",
       "      <td>Survivor Australia: 2016</td>\n",
       "      <td>1</td>\n",
       "      <td>El</td>\n",
       "      <td>AU0022</td>\n",
       "      <td>AUCA0101</td>\n",
       "      <td>1</td>\n",
       "      <td>48.0</td>\n",
       "      <td>NaN</td>\n",
       "      <td>Won</td>\n",
       "      <td>NaN</td>\n",
       "      <td>NaN</td>\n",
       "      <td>NaN</td>\n",
       "      <td>NaN</td>\n",
       "    </tr>\n",
       "    <tr>\n",
       "      <th>3</th>\n",
       "      <td>AU</td>\n",
       "      <td>AU01</td>\n",
       "      <td>Survivor Australia: 2016</td>\n",
       "      <td>1</td>\n",
       "      <td>Lee</td>\n",
       "      <td>AU0023</td>\n",
       "      <td>AUCA0101</td>\n",
       "      <td>1</td>\n",
       "      <td>48.0</td>\n",
       "      <td>NaN</td>\n",
       "      <td>Won</td>\n",
       "      <td>NaN</td>\n",
       "      <td>NaN</td>\n",
       "      <td>NaN</td>\n",
       "      <td>NaN</td>\n",
       "    </tr>\n",
       "    <tr>\n",
       "      <th>4</th>\n",
       "      <td>AU</td>\n",
       "      <td>AU01</td>\n",
       "      <td>Survivor Australia: 2016</td>\n",
       "      <td>1</td>\n",
       "      <td>Sam</td>\n",
       "      <td>AU0019</td>\n",
       "      <td>AUCA0101</td>\n",
       "      <td>2</td>\n",
       "      <td>49.0</td>\n",
       "      <td>23.0</td>\n",
       "      <td>Played</td>\n",
       "      <td>NaN</td>\n",
       "      <td>NaN</td>\n",
       "      <td>Yes</td>\n",
       "      <td>NaN</td>\n",
       "    </tr>\n",
       "  </tbody>\n",
       "</table>\n",
       "</div>"
      ],
      "text/plain": [
       "  version version_season               season_name  season castaway  \\\n",
       "0      AU           AU01  Survivor Australia: 2016       1   Brooke   \n",
       "1      AU           AU01  Survivor Australia: 2016       1      Sam   \n",
       "2      AU           AU01  Survivor Australia: 2016       1       El   \n",
       "3      AU           AU01  Survivor Australia: 2016       1      Lee   \n",
       "4      AU           AU01  Survivor Australia: 2016       1      Sam   \n",
       "\n",
       "  castaway_id advantage_id  sequence_id   day  episode   event played_for  \\\n",
       "0      AU0018     AUAD0101            1  29.0      NaN   Found        NaN   \n",
       "1      AU0019     AUCA0101            1  48.0      NaN     Won        NaN   \n",
       "2      AU0022     AUCA0101            1  48.0      NaN     Won        NaN   \n",
       "3      AU0023     AUCA0101            1  48.0      NaN     Won        NaN   \n",
       "4      AU0019     AUCA0101            2  49.0     23.0  Played        NaN   \n",
       "\n",
       "  played_for_id success  votes_nullified  \n",
       "0           NaN     NaN              NaN  \n",
       "1           NaN     NaN              NaN  \n",
       "2           NaN     NaN              NaN  \n",
       "3           NaN     NaN              NaN  \n",
       "4           NaN     Yes              NaN  "
      ]
     },
     "execution_count": 21,
     "metadata": {},
     "output_type": "execute_result"
    }
   ],
   "source": [
    "advantage_movement.head()"
   ]
  },
  {
   "cell_type": "markdown",
<<<<<<< HEAD
   "id": "953c4cbd",
=======
   "id": "fbdd6133",
>>>>>>> df74cc44af45e1e45d8cbd6ba36161fcc7da3aef
   "metadata": {},
   "source": [
    "#### Screen Time\n",
    "\n",
    "This table contains the estimated screen time for each castaway during an episode. It is under development and only contains data for Season 42 (148 values) so we may not be able to use this data to make predictions for all seasons. "
   ]
  },
  {
   "cell_type": "code",
   "execution_count": 22,
   "id": "ba751468",
   "metadata": {},
   "outputs": [
    {
     "data": {
      "text/html": [
       "<div>\n",
       "<style scoped>\n",
       "    .dataframe tbody tr th:only-of-type {\n",
       "        vertical-align: middle;\n",
       "    }\n",
       "\n",
       "    .dataframe tbody tr th {\n",
       "        vertical-align: top;\n",
       "    }\n",
       "\n",
       "    .dataframe thead th {\n",
       "        text-align: right;\n",
       "    }\n",
       "</style>\n",
       "<table border=\"1\" class=\"dataframe\">\n",
       "  <thead>\n",
       "    <tr style=\"text-align: right;\">\n",
       "      <th></th>\n",
       "      <th>version_season</th>\n",
       "      <th>episode</th>\n",
       "      <th>castaway_id</th>\n",
       "      <th>screen_time</th>\n",
       "    </tr>\n",
       "  </thead>\n",
       "  <tbody>\n",
       "    <tr>\n",
       "      <th>0</th>\n",
       "      <td>US42</td>\n",
       "      <td>1</td>\n",
       "      <td>US0618</td>\n",
       "      <td>148</td>\n",
       "    </tr>\n",
       "    <tr>\n",
       "      <th>1</th>\n",
       "      <td>US42</td>\n",
       "      <td>1</td>\n",
       "      <td>US0609</td>\n",
       "      <td>159</td>\n",
       "    </tr>\n",
       "    <tr>\n",
       "      <th>2</th>\n",
       "      <td>US42</td>\n",
       "      <td>1</td>\n",
       "      <td>US0622</td>\n",
       "      <td>169</td>\n",
       "    </tr>\n",
       "    <tr>\n",
       "      <th>3</th>\n",
       "      <td>US42</td>\n",
       "      <td>1</td>\n",
       "      <td>US0616</td>\n",
       "      <td>176</td>\n",
       "    </tr>\n",
       "    <tr>\n",
       "      <th>4</th>\n",
       "      <td>US42</td>\n",
       "      <td>1</td>\n",
       "      <td>US0612</td>\n",
       "      <td>190</td>\n",
       "    </tr>\n",
       "    <tr>\n",
       "      <th>...</th>\n",
       "      <td>...</td>\n",
       "      <td>...</td>\n",
       "      <td>...</td>\n",
       "      <td>...</td>\n",
       "    </tr>\n",
       "    <tr>\n",
       "      <th>145</th>\n",
       "      <td>US42</td>\n",
       "      <td>13</td>\n",
       "      <td>US0616</td>\n",
       "      <td>1024</td>\n",
       "    </tr>\n",
       "    <tr>\n",
       "      <th>146</th>\n",
       "      <td>US42</td>\n",
       "      <td>13</td>\n",
       "      <td>US0623</td>\n",
       "      <td>1058</td>\n",
       "    </tr>\n",
       "    <tr>\n",
       "      <th>147</th>\n",
       "      <td>US42</td>\n",
       "      <td>13</td>\n",
       "      <td>US0615</td>\n",
       "      <td>1139</td>\n",
       "    </tr>\n",
       "    <tr>\n",
       "      <th>148</th>\n",
       "      <td>US42</td>\n",
       "      <td>13</td>\n",
       "      <td>host</td>\n",
       "      <td>1190</td>\n",
       "    </tr>\n",
       "    <tr>\n",
       "      <th>149</th>\n",
       "      <td>US42</td>\n",
       "      <td>13</td>\n",
       "      <td>US0619</td>\n",
       "      <td>1617</td>\n",
       "    </tr>\n",
       "  </tbody>\n",
       "</table>\n",
       "<p>150 rows × 4 columns</p>\n",
       "</div>"
      ],
      "text/plain": [
       "    version_season  episode castaway_id  screen_time\n",
       "0             US42        1      US0618          148\n",
       "1             US42        1      US0609          159\n",
       "2             US42        1      US0622          169\n",
       "3             US42        1      US0616          176\n",
       "4             US42        1      US0612          190\n",
       "..             ...      ...         ...          ...\n",
       "145           US42       13      US0616         1024\n",
       "146           US42       13      US0623         1058\n",
       "147           US42       13      US0615         1139\n",
       "148           US42       13        host         1190\n",
       "149           US42       13      US0619         1617\n",
       "\n",
       "[150 rows x 4 columns]"
      ]
     },
     "execution_count": 22,
     "metadata": {},
     "output_type": "execute_result"
    }
   ],
   "source": [
    "screen_time # can't really use only for season 42"
   ]
  },
  {
   "cell_type": "markdown",
<<<<<<< HEAD
   "id": "a607da32",
=======
   "id": "7925b2c6",
>>>>>>> df74cc44af45e1e45d8cbd6ba36161fcc7da3aef
   "metadata": {},
   "source": [
    "#### Confessionals\n",
    "\n",
    "This dataset contains the number of confessionals for each castaway by season and episode. There are 11,461 values for the confessional_count attribute so this would be a very good attribute to use in our analysis. "
   ]
  },
  {
   "cell_type": "code",
<<<<<<< HEAD
   "execution_count": 127,
=======
   "execution_count": 23,
>>>>>>> df74cc44af45e1e45d8cbd6ba36161fcc7da3aef
   "id": "c3daed2e",
   "metadata": {},
   "outputs": [
    {
     "name": "stdout",
     "output_type": "stream",
     "text": [
      "<class 'pandas.core.frame.DataFrame'>\n",
      "RangeIndex: 11461 entries, 0 to 11460\n",
      "Data columns (total 11 columns):\n",
      " #   Column              Non-Null Count  Dtype  \n",
      "---  ------              --------------  -----  \n",
      " 0   version             11461 non-null  object \n",
      " 1   version_season      11461 non-null  object \n",
      " 2   season_name         11461 non-null  object \n",
      " 3   season              11461 non-null  int64  \n",
      " 4   episode             11461 non-null  int64  \n",
      " 5   castaway            11461 non-null  object \n",
      " 6   castaway_id         11461 non-null  object \n",
      " 7   confessional_count  11461 non-null  int64  \n",
      " 8   confessional_time   541 non-null    float64\n",
      " 9   index_count         11461 non-null  float64\n",
      " 10  index_time          541 non-null    float64\n",
      "dtypes: float64(3), int64(3), object(5)\n",
      "memory usage: 985.1+ KB\n"
     ]
    }
   ],
   "source": [
    "confessionals.describe()\n",
    "confessionals.info()"
   ]
  },
  {
   "cell_type": "markdown",
<<<<<<< HEAD
   "id": "5af528a6",
=======
   "id": "5ddb1264",
>>>>>>> df74cc44af45e1e45d8cbd6ba36161fcc7da3aef
   "metadata": {},
   "source": [
    "#### Challenge Results\n",
    "\n",
    "This data frame contains immunity and reward challenge results along with their winners and losers. There are 18,142 non-null values for challenge results so this could be a good potential predictor in our model. "
   ]
  },
  {
   "cell_type": "code",
   "execution_count": 24,
   "id": "45d9b8eb",
   "metadata": {},
   "outputs": [
    {
     "name": "stdout",
     "output_type": "stream",
     "text": [
      "<class 'pandas.core.frame.DataFrame'>\n",
      "RangeIndex: 18142 entries, 0 to 18141\n",
      "Data columns (total 17 columns):\n",
      " #   Column             Non-Null Count  Dtype \n",
      "---  ------             --------------  ----- \n",
      " 0   version            18142 non-null  object\n",
      " 1   version_season     18142 non-null  object\n",
      " 2   season_name        18142 non-null  object\n",
      " 3   season             18142 non-null  int64 \n",
      " 4   episode            18142 non-null  int64 \n",
      " 5   n_boots            18142 non-null  int64 \n",
      " 6   castaway_id        18142 non-null  object\n",
      " 7   castaway           18142 non-null  object\n",
      " 8   tribe              18015 non-null  object\n",
      " 9   tribe_status       18142 non-null  object\n",
      " 10  challenge_name     17623 non-null  object\n",
      " 11  challenge_type     18142 non-null  object\n",
      " 12  outcome_type       18142 non-null  object\n",
      " 13  result             18142 non-null  object\n",
      " 14  chosen_for_reward  18142 non-null  bool  \n",
      " 15  challenge_id       18142 non-null  object\n",
      " 16  sit_out            11703 non-null  object\n",
      "dtypes: bool(1), int64(3), object(13)\n",
      "memory usage: 2.2+ MB\n"
     ]
    }
   ],
   "source": [
    "challenge_results.info()"
   ]
  },
  {
   "cell_type": "markdown",
<<<<<<< HEAD
   "id": "e5df8ccc",
=======
   "id": "23d3b29d",
>>>>>>> df74cc44af45e1e45d8cbd6ba36161fcc7da3aef
   "metadata": {},
   "source": [
    "### Challenge Description \n",
    "\n",
    "This dataset contains binary fields for each challenge. The following are features of challenges documented: \n",
    "\n",
    "- puzzle: If the challenge contains a puzzle element.\n",
    "- race: If the challenge is a race between tribes, teams or individuals.\n",
    "- precision: If the challenge contains a precision element e.g. shooting an arrow, hitting a target, etc.\n",
    "- endurance: If the challenge is an endurance event e.g. last tribe, team, individual standing.\n",
    "- strength: If the challenge is largerly strength based e.g. Shoulder the Load.\n",
    "- turn_based: If the challenge is conducted in a series of rounds until a certain amount of points are scored or there is one player remaining.\n",
    "- balance: If the challenge contains a balancing element.\n",
    "- food: If the challenge contains a food element e.g. the food challenge, biting off chunks of meat.\n",
    "- knowledge: If the challenge contains a knowledge component e.g. Q and A about the location.\n",
    "- memory: If the challenge contains a memory element e.g. memorising a sequence of items.\n",
    "- fire: If the challenge contains an element of fire making / maintaining.\n",
    "- water: If the challenge is held, in part, in the water."
   ]
  },
  {
   "cell_type": "code",
<<<<<<< HEAD
   "execution_count": 71,
   "id": "8043eb8f",
=======
   "execution_count": 25,
   "id": "5dbe7d9d",
>>>>>>> df74cc44af45e1e45d8cbd6ba36161fcc7da3aef
   "metadata": {},
   "outputs": [
    {
     "name": "stdout",
     "output_type": "stream",
     "text": [
      "<class 'pandas.core.frame.DataFrame'>\n",
      "RangeIndex: 1396 entries, 0 to 1395\n",
      "Data columns (total 14 columns):\n",
      " #   Column          Non-Null Count  Dtype \n",
      "---  ------          --------------  ----- \n",
      " 0   challenge_id    1396 non-null   object\n",
      " 1   challenge_name  1356 non-null   object\n",
      " 2   puzzle          1356 non-null   object\n",
      " 3   race            1356 non-null   object\n",
      " 4   precision       1356 non-null   object\n",
      " 5   endurance       1356 non-null   object\n",
      " 6   strength        1356 non-null   object\n",
      " 7   turn_based      1356 non-null   object\n",
      " 8   balance         1356 non-null   object\n",
      " 9   food            1356 non-null   object\n",
      " 10  knowledge       1356 non-null   object\n",
      " 11  memory          1356 non-null   object\n",
      " 12  fire            1356 non-null   object\n",
      " 13  water           1356 non-null   object\n",
      "dtypes: object(14)\n",
      "memory usage: 152.8+ KB\n"
     ]
    }
   ],
   "source": [
    "challenge_description.info()"
   ]
  },
  {
   "cell_type": "markdown",
<<<<<<< HEAD
   "id": "aeee36c3",
=======
   "id": "d053f977",
>>>>>>> df74cc44af45e1e45d8cbd6ba36161fcc7da3aef
   "metadata": {},
   "source": [
    "#### Jury Votes\n",
    "\n",
    "This data frame contains the history of jury votes. The vote column contains a 0 or 1 indicating if a vote was placed or not on a player. "
   ]
  },
  {
   "cell_type": "code",
   "execution_count": 26,
   "id": "32ab848e",
   "metadata": {},
   "outputs": [
    {
     "name": "stdout",
     "output_type": "stream",
     "text": [
      "<class 'pandas.core.frame.DataFrame'>\n",
      "RangeIndex: 1353 entries, 0 to 1352\n",
      "Data columns (total 9 columns):\n",
      " #   Column          Non-Null Count  Dtype  \n",
      "---  ------          --------------  -----  \n",
      " 0   version         1353 non-null   object \n",
      " 1   version_season  1353 non-null   object \n",
      " 2   season_name     1353 non-null   object \n",
      " 3   season          1353 non-null   int64  \n",
      " 4   castaway        1329 non-null   object \n",
      " 5   finalist        1329 non-null   object \n",
      " 6   vote            1329 non-null   float64\n",
      " 7   castaway_id     1329 non-null   object \n",
      " 8   finalist_id     1329 non-null   object \n",
      "dtypes: float64(1), int64(1), object(7)\n",
      "memory usage: 95.3+ KB\n"
     ]
    },
    {
     "data": {
      "text/html": [
       "<div>\n",
       "<style scoped>\n",
       "    .dataframe tbody tr th:only-of-type {\n",
       "        vertical-align: middle;\n",
       "    }\n",
       "\n",
       "    .dataframe tbody tr th {\n",
       "        vertical-align: top;\n",
       "    }\n",
       "\n",
       "    .dataframe thead th {\n",
       "        text-align: right;\n",
       "    }\n",
       "</style>\n",
       "<table border=\"1\" class=\"dataframe\">\n",
       "  <thead>\n",
       "    <tr style=\"text-align: right;\">\n",
       "      <th></th>\n",
       "      <th>version</th>\n",
       "      <th>version_season</th>\n",
       "      <th>season_name</th>\n",
       "      <th>season</th>\n",
       "      <th>castaway</th>\n",
       "      <th>finalist</th>\n",
       "      <th>vote</th>\n",
       "      <th>castaway_id</th>\n",
       "      <th>finalist_id</th>\n",
       "    </tr>\n",
       "  </thead>\n",
       "  <tbody>\n",
       "    <tr>\n",
       "      <th>0</th>\n",
       "      <td>AU</td>\n",
       "      <td>AU01</td>\n",
       "      <td>Survivor Australia: 2016</td>\n",
       "      <td>1</td>\n",
       "      <td>Nick</td>\n",
       "      <td>Lee</td>\n",
       "      <td>0.0</td>\n",
       "      <td>AU0014</td>\n",
       "      <td>AU0023</td>\n",
       "    </tr>\n",
       "    <tr>\n",
       "      <th>1</th>\n",
       "      <td>AU</td>\n",
       "      <td>AU01</td>\n",
       "      <td>Survivor Australia: 2016</td>\n",
       "      <td>1</td>\n",
       "      <td>Kylie</td>\n",
       "      <td>Lee</td>\n",
       "      <td>0.0</td>\n",
       "      <td>AU0015</td>\n",
       "      <td>AU0023</td>\n",
       "    </tr>\n",
       "    <tr>\n",
       "      <th>2</th>\n",
       "      <td>AU</td>\n",
       "      <td>AU01</td>\n",
       "      <td>Survivor Australia: 2016</td>\n",
       "      <td>1</td>\n",
       "      <td>Sue</td>\n",
       "      <td>Lee</td>\n",
       "      <td>0.0</td>\n",
       "      <td>AU0016</td>\n",
       "      <td>AU0023</td>\n",
       "    </tr>\n",
       "    <tr>\n",
       "      <th>3</th>\n",
       "      <td>AU</td>\n",
       "      <td>AU01</td>\n",
       "      <td>Survivor Australia: 2016</td>\n",
       "      <td>1</td>\n",
       "      <td>Jennah-Louise</td>\n",
       "      <td>Lee</td>\n",
       "      <td>0.0</td>\n",
       "      <td>AU0017</td>\n",
       "      <td>AU0023</td>\n",
       "    </tr>\n",
       "    <tr>\n",
       "      <th>4</th>\n",
       "      <td>AU</td>\n",
       "      <td>AU01</td>\n",
       "      <td>Survivor Australia: 2016</td>\n",
       "      <td>1</td>\n",
       "      <td>Brooke</td>\n",
       "      <td>Lee</td>\n",
       "      <td>0.0</td>\n",
       "      <td>AU0018</td>\n",
       "      <td>AU0023</td>\n",
       "    </tr>\n",
       "    <tr>\n",
       "      <th>5</th>\n",
       "      <td>AU</td>\n",
       "      <td>AU01</td>\n",
       "      <td>Survivor Australia: 2016</td>\n",
       "      <td>1</td>\n",
       "      <td>Sam</td>\n",
       "      <td>Lee</td>\n",
       "      <td>0.0</td>\n",
       "      <td>AU0019</td>\n",
       "      <td>AU0023</td>\n",
       "    </tr>\n",
       "    <tr>\n",
       "      <th>6</th>\n",
       "      <td>AU</td>\n",
       "      <td>AU01</td>\n",
       "      <td>Survivor Australia: 2016</td>\n",
       "      <td>1</td>\n",
       "      <td>Matt</td>\n",
       "      <td>Lee</td>\n",
       "      <td>0.0</td>\n",
       "      <td>AU0020</td>\n",
       "      <td>AU0023</td>\n",
       "    </tr>\n",
       "    <tr>\n",
       "      <th>7</th>\n",
       "      <td>AU</td>\n",
       "      <td>AU01</td>\n",
       "      <td>Survivor Australia: 2016</td>\n",
       "      <td>1</td>\n",
       "      <td>Flick</td>\n",
       "      <td>Lee</td>\n",
       "      <td>0.0</td>\n",
       "      <td>AU0021</td>\n",
       "      <td>AU0023</td>\n",
       "    </tr>\n",
       "    <tr>\n",
       "      <th>8</th>\n",
       "      <td>AU</td>\n",
       "      <td>AU01</td>\n",
       "      <td>Survivor Australia: 2016</td>\n",
       "      <td>1</td>\n",
       "      <td>El</td>\n",
       "      <td>Lee</td>\n",
       "      <td>1.0</td>\n",
       "      <td>AU0022</td>\n",
       "      <td>AU0023</td>\n",
       "    </tr>\n",
       "    <tr>\n",
       "      <th>9</th>\n",
       "      <td>AU</td>\n",
       "      <td>AU01</td>\n",
       "      <td>Survivor Australia: 2016</td>\n",
       "      <td>1</td>\n",
       "      <td>Nick</td>\n",
       "      <td>Kristie</td>\n",
       "      <td>1.0</td>\n",
       "      <td>AU0014</td>\n",
       "      <td>AU0024</td>\n",
       "    </tr>\n",
       "    <tr>\n",
       "      <th>10</th>\n",
       "      <td>AU</td>\n",
       "      <td>AU01</td>\n",
       "      <td>Survivor Australia: 2016</td>\n",
       "      <td>1</td>\n",
       "      <td>Kylie</td>\n",
       "      <td>Kristie</td>\n",
       "      <td>1.0</td>\n",
       "      <td>AU0015</td>\n",
       "      <td>AU0024</td>\n",
       "    </tr>\n",
       "    <tr>\n",
       "      <th>11</th>\n",
       "      <td>AU</td>\n",
       "      <td>AU01</td>\n",
       "      <td>Survivor Australia: 2016</td>\n",
       "      <td>1</td>\n",
       "      <td>Sue</td>\n",
       "      <td>Kristie</td>\n",
       "      <td>1.0</td>\n",
       "      <td>AU0016</td>\n",
       "      <td>AU0024</td>\n",
       "    </tr>\n",
       "    <tr>\n",
       "      <th>12</th>\n",
       "      <td>AU</td>\n",
       "      <td>AU01</td>\n",
       "      <td>Survivor Australia: 2016</td>\n",
       "      <td>1</td>\n",
       "      <td>Jennah-Louise</td>\n",
       "      <td>Kristie</td>\n",
       "      <td>1.0</td>\n",
       "      <td>AU0017</td>\n",
       "      <td>AU0024</td>\n",
       "    </tr>\n",
       "    <tr>\n",
       "      <th>13</th>\n",
       "      <td>AU</td>\n",
       "      <td>AU01</td>\n",
       "      <td>Survivor Australia: 2016</td>\n",
       "      <td>1</td>\n",
       "      <td>Brooke</td>\n",
       "      <td>Kristie</td>\n",
       "      <td>1.0</td>\n",
       "      <td>AU0018</td>\n",
       "      <td>AU0024</td>\n",
       "    </tr>\n",
       "    <tr>\n",
       "      <th>14</th>\n",
       "      <td>AU</td>\n",
       "      <td>AU01</td>\n",
       "      <td>Survivor Australia: 2016</td>\n",
       "      <td>1</td>\n",
       "      <td>Sam</td>\n",
       "      <td>Kristie</td>\n",
       "      <td>1.0</td>\n",
       "      <td>AU0019</td>\n",
       "      <td>AU0024</td>\n",
       "    </tr>\n",
       "    <tr>\n",
       "      <th>15</th>\n",
       "      <td>AU</td>\n",
       "      <td>AU01</td>\n",
       "      <td>Survivor Australia: 2016</td>\n",
       "      <td>1</td>\n",
       "      <td>Matt</td>\n",
       "      <td>Kristie</td>\n",
       "      <td>1.0</td>\n",
       "      <td>AU0020</td>\n",
       "      <td>AU0024</td>\n",
       "    </tr>\n",
       "    <tr>\n",
       "      <th>16</th>\n",
       "      <td>AU</td>\n",
       "      <td>AU01</td>\n",
       "      <td>Survivor Australia: 2016</td>\n",
       "      <td>1</td>\n",
       "      <td>Flick</td>\n",
       "      <td>Kristie</td>\n",
       "      <td>1.0</td>\n",
       "      <td>AU0021</td>\n",
       "      <td>AU0024</td>\n",
       "    </tr>\n",
       "    <tr>\n",
       "      <th>17</th>\n",
       "      <td>AU</td>\n",
       "      <td>AU01</td>\n",
       "      <td>Survivor Australia: 2016</td>\n",
       "      <td>1</td>\n",
       "      <td>El</td>\n",
       "      <td>Kristie</td>\n",
       "      <td>0.0</td>\n",
       "      <td>AU0022</td>\n",
       "      <td>AU0024</td>\n",
       "    </tr>\n",
       "    <tr>\n",
       "      <th>18</th>\n",
       "      <td>AU</td>\n",
       "      <td>AU02</td>\n",
       "      <td>Survivor Australia: 2017</td>\n",
       "      <td>2</td>\n",
       "      <td>Jarrad</td>\n",
       "      <td>Jericho</td>\n",
       "      <td>1.0</td>\n",
       "      <td>AU0037</td>\n",
       "      <td>AU0048</td>\n",
       "    </tr>\n",
       "    <tr>\n",
       "      <th>19</th>\n",
       "      <td>AU</td>\n",
       "      <td>AU02</td>\n",
       "      <td>Survivor Australia: 2017</td>\n",
       "      <td>2</td>\n",
       "      <td>Anneliese</td>\n",
       "      <td>Jericho</td>\n",
       "      <td>1.0</td>\n",
       "      <td>AU0038</td>\n",
       "      <td>AU0048</td>\n",
       "    </tr>\n",
       "    <tr>\n",
       "      <th>20</th>\n",
       "      <td>AU</td>\n",
       "      <td>AU02</td>\n",
       "      <td>Survivor Australia: 2017</td>\n",
       "      <td>2</td>\n",
       "      <td>Henry</td>\n",
       "      <td>Jericho</td>\n",
       "      <td>1.0</td>\n",
       "      <td>AU0039</td>\n",
       "      <td>AU0048</td>\n",
       "    </tr>\n",
       "    <tr>\n",
       "      <th>21</th>\n",
       "      <td>AU</td>\n",
       "      <td>AU02</td>\n",
       "      <td>Survivor Australia: 2017</td>\n",
       "      <td>2</td>\n",
       "      <td>Sarah</td>\n",
       "      <td>Jericho</td>\n",
       "      <td>0.0</td>\n",
       "      <td>AU0041</td>\n",
       "      <td>AU0048</td>\n",
       "    </tr>\n",
       "    <tr>\n",
       "      <th>22</th>\n",
       "      <td>AU</td>\n",
       "      <td>AU02</td>\n",
       "      <td>Survivor Australia: 2017</td>\n",
       "      <td>2</td>\n",
       "      <td>Luke</td>\n",
       "      <td>Jericho</td>\n",
       "      <td>1.0</td>\n",
       "      <td>AU0042</td>\n",
       "      <td>AU0048</td>\n",
       "    </tr>\n",
       "    <tr>\n",
       "      <th>23</th>\n",
       "      <td>AU</td>\n",
       "      <td>AU02</td>\n",
       "      <td>Survivor Australia: 2017</td>\n",
       "      <td>2</td>\n",
       "      <td>Ziggy</td>\n",
       "      <td>Jericho</td>\n",
       "      <td>1.0</td>\n",
       "      <td>AU0043</td>\n",
       "      <td>AU0048</td>\n",
       "    </tr>\n",
       "    <tr>\n",
       "      <th>24</th>\n",
       "      <td>AU</td>\n",
       "      <td>AU02</td>\n",
       "      <td>Survivor Australia: 2017</td>\n",
       "      <td>2</td>\n",
       "      <td>Locky</td>\n",
       "      <td>Jericho</td>\n",
       "      <td>0.0</td>\n",
       "      <td>AU0044</td>\n",
       "      <td>AU0048</td>\n",
       "    </tr>\n",
       "    <tr>\n",
       "      <th>25</th>\n",
       "      <td>AU</td>\n",
       "      <td>AU02</td>\n",
       "      <td>Survivor Australia: 2017</td>\n",
       "      <td>2</td>\n",
       "      <td>Michelle</td>\n",
       "      <td>Jericho</td>\n",
       "      <td>1.0</td>\n",
       "      <td>AU0045</td>\n",
       "      <td>AU0048</td>\n",
       "    </tr>\n",
       "    <tr>\n",
       "      <th>26</th>\n",
       "      <td>AU</td>\n",
       "      <td>AU02</td>\n",
       "      <td>Survivor Australia: 2017</td>\n",
       "      <td>2</td>\n",
       "      <td>Peter</td>\n",
       "      <td>Jericho</td>\n",
       "      <td>0.0</td>\n",
       "      <td>AU0046</td>\n",
       "      <td>AU0048</td>\n",
       "    </tr>\n",
       "    <tr>\n",
       "      <th>27</th>\n",
       "      <td>AU</td>\n",
       "      <td>AU02</td>\n",
       "      <td>Survivor Australia: 2017</td>\n",
       "      <td>2</td>\n",
       "      <td>Jarrad</td>\n",
       "      <td>Tara</td>\n",
       "      <td>0.0</td>\n",
       "      <td>AU0037</td>\n",
       "      <td>AU0047</td>\n",
       "    </tr>\n",
       "    <tr>\n",
       "      <th>28</th>\n",
       "      <td>AU</td>\n",
       "      <td>AU02</td>\n",
       "      <td>Survivor Australia: 2017</td>\n",
       "      <td>2</td>\n",
       "      <td>Anneliese</td>\n",
       "      <td>Tara</td>\n",
       "      <td>0.0</td>\n",
       "      <td>AU0038</td>\n",
       "      <td>AU0047</td>\n",
       "    </tr>\n",
       "    <tr>\n",
       "      <th>29</th>\n",
       "      <td>AU</td>\n",
       "      <td>AU02</td>\n",
       "      <td>Survivor Australia: 2017</td>\n",
       "      <td>2</td>\n",
       "      <td>Henry</td>\n",
       "      <td>Tara</td>\n",
       "      <td>0.0</td>\n",
       "      <td>AU0039</td>\n",
       "      <td>AU0047</td>\n",
       "    </tr>\n",
       "  </tbody>\n",
       "</table>\n",
       "</div>"
      ],
      "text/plain": [
       "   version version_season               season_name  season       castaway  \\\n",
       "0       AU           AU01  Survivor Australia: 2016       1           Nick   \n",
       "1       AU           AU01  Survivor Australia: 2016       1          Kylie   \n",
       "2       AU           AU01  Survivor Australia: 2016       1            Sue   \n",
       "3       AU           AU01  Survivor Australia: 2016       1  Jennah-Louise   \n",
       "4       AU           AU01  Survivor Australia: 2016       1         Brooke   \n",
       "5       AU           AU01  Survivor Australia: 2016       1            Sam   \n",
       "6       AU           AU01  Survivor Australia: 2016       1           Matt   \n",
       "7       AU           AU01  Survivor Australia: 2016       1          Flick   \n",
       "8       AU           AU01  Survivor Australia: 2016       1             El   \n",
       "9       AU           AU01  Survivor Australia: 2016       1           Nick   \n",
       "10      AU           AU01  Survivor Australia: 2016       1          Kylie   \n",
       "11      AU           AU01  Survivor Australia: 2016       1            Sue   \n",
       "12      AU           AU01  Survivor Australia: 2016       1  Jennah-Louise   \n",
       "13      AU           AU01  Survivor Australia: 2016       1         Brooke   \n",
       "14      AU           AU01  Survivor Australia: 2016       1            Sam   \n",
       "15      AU           AU01  Survivor Australia: 2016       1           Matt   \n",
       "16      AU           AU01  Survivor Australia: 2016       1          Flick   \n",
       "17      AU           AU01  Survivor Australia: 2016       1             El   \n",
       "18      AU           AU02  Survivor Australia: 2017       2         Jarrad   \n",
       "19      AU           AU02  Survivor Australia: 2017       2      Anneliese   \n",
       "20      AU           AU02  Survivor Australia: 2017       2          Henry   \n",
       "21      AU           AU02  Survivor Australia: 2017       2          Sarah   \n",
       "22      AU           AU02  Survivor Australia: 2017       2           Luke   \n",
       "23      AU           AU02  Survivor Australia: 2017       2          Ziggy   \n",
       "24      AU           AU02  Survivor Australia: 2017       2          Locky   \n",
       "25      AU           AU02  Survivor Australia: 2017       2       Michelle   \n",
       "26      AU           AU02  Survivor Australia: 2017       2          Peter   \n",
       "27      AU           AU02  Survivor Australia: 2017       2         Jarrad   \n",
       "28      AU           AU02  Survivor Australia: 2017       2      Anneliese   \n",
       "29      AU           AU02  Survivor Australia: 2017       2          Henry   \n",
       "\n",
       "   finalist  vote castaway_id finalist_id  \n",
       "0       Lee   0.0      AU0014      AU0023  \n",
       "1       Lee   0.0      AU0015      AU0023  \n",
       "2       Lee   0.0      AU0016      AU0023  \n",
       "3       Lee   0.0      AU0017      AU0023  \n",
       "4       Lee   0.0      AU0018      AU0023  \n",
       "5       Lee   0.0      AU0019      AU0023  \n",
       "6       Lee   0.0      AU0020      AU0023  \n",
       "7       Lee   0.0      AU0021      AU0023  \n",
       "8       Lee   1.0      AU0022      AU0023  \n",
       "9   Kristie   1.0      AU0014      AU0024  \n",
       "10  Kristie   1.0      AU0015      AU0024  \n",
       "11  Kristie   1.0      AU0016      AU0024  \n",
       "12  Kristie   1.0      AU0017      AU0024  \n",
       "13  Kristie   1.0      AU0018      AU0024  \n",
       "14  Kristie   1.0      AU0019      AU0024  \n",
       "15  Kristie   1.0      AU0020      AU0024  \n",
       "16  Kristie   1.0      AU0021      AU0024  \n",
       "17  Kristie   0.0      AU0022      AU0024  \n",
       "18  Jericho   1.0      AU0037      AU0048  \n",
       "19  Jericho   1.0      AU0038      AU0048  \n",
       "20  Jericho   1.0      AU0039      AU0048  \n",
       "21  Jericho   0.0      AU0041      AU0048  \n",
       "22  Jericho   1.0      AU0042      AU0048  \n",
       "23  Jericho   1.0      AU0043      AU0048  \n",
       "24  Jericho   0.0      AU0044      AU0048  \n",
       "25  Jericho   1.0      AU0045      AU0048  \n",
       "26  Jericho   0.0      AU0046      AU0048  \n",
       "27     Tara   0.0      AU0037      AU0047  \n",
       "28     Tara   0.0      AU0038      AU0047  \n",
       "29     Tara   0.0      AU0039      AU0047  "
      ]
     },
     "execution_count": 26,
     "metadata": {},
     "output_type": "execute_result"
    }
   ],
   "source": [
    "jury_votes.info()\n",
    "jury_votes.head(30)"
   ]
  },
  {
   "cell_type": "markdown",
<<<<<<< HEAD
   "id": "9de05799",
=======
   "id": "65741ed9",
>>>>>>> df74cc44af45e1e45d8cbd6ba36161fcc7da3aef
   "metadata": {},
   "source": [
    "#### Vote History\n",
    "\n",
    "This dataframe contains a complete history of votes across all seasons of Survivor documenting who votes for who at which Tribal Council. It also includes details about who had individual immunity or their votes nullified by hidden imminuty idol. There are 7,529 non-null values for the vote attribute so this could be a good potential predictor in our model. "
   ]
  },
  {
   "cell_type": "code",
   "execution_count": 27,
   "id": "6e63926c",
   "metadata": {},
   "outputs": [
    {
     "name": "stdout",
     "output_type": "stream",
     "text": [
      "<class 'pandas.core.frame.DataFrame'>\n",
      "RangeIndex: 7942 entries, 0 to 7941\n",
      "Data columns (total 22 columns):\n",
      " #   Column              Non-Null Count  Dtype  \n",
      "---  ------              --------------  -----  \n",
      " 0   version             7942 non-null   object \n",
      " 1   version_season      7942 non-null   object \n",
      " 2   season_name         7942 non-null   object \n",
      " 3   season              7942 non-null   int64  \n",
      " 4   episode             7942 non-null   int64  \n",
      " 5   day                 7942 non-null   int64  \n",
      " 6   tribe_status        7942 non-null   object \n",
      " 7   tribe               7942 non-null   object \n",
      " 8   castaway            7934 non-null   object \n",
      " 9   immunity            797 non-null    object \n",
      " 10  vote                7529 non-null   object \n",
      " 11  vote_event          481 non-null    object \n",
      " 12  vote_event_outcome  457 non-null    object \n",
      " 13  split_vote          408 non-null    object \n",
      " 14  nullified           7940 non-null   object \n",
      " 15  tie                 7837 non-null   object \n",
      " 16  voted_out           7934 non-null   object \n",
      " 17  order               7927 non-null   float64\n",
      " 18  vote_order          7935 non-null   float64\n",
      " 19  castaway_id         7934 non-null   object \n",
      " 20  vote_id             7547 non-null   object \n",
      " 21  voted_out_id        7934 non-null   object \n",
      "dtypes: float64(2), int64(3), object(17)\n",
      "memory usage: 1.3+ MB\n"
     ]
    }
   ],
   "source": [
    "vote_history.info()"
   ]
  },
  {
   "cell_type": "code",
<<<<<<< HEAD
   "execution_count": 85,
   "id": "04ab3e73",
=======
   "execution_count": 28,
   "id": "10b77ebd",
>>>>>>> df74cc44af45e1e45d8cbd6ba36161fcc7da3aef
   "metadata": {},
   "outputs": [
    {
     "name": "stdout",
     "output_type": "stream",
     "text": [
      "     version version_season               season_name  season  episode  day  \\\n",
      "0         AU           AU01  Survivor Australia: 2016       1        1    2   \n",
      "1         AU           AU01  Survivor Australia: 2016       1        1    2   \n",
      "2         AU           AU01  Survivor Australia: 2016       1        1    2   \n",
      "3         AU           AU01  Survivor Australia: 2016       1        1    2   \n",
      "4         AU           AU01  Survivor Australia: 2016       1        1    2   \n",
      "...      ...            ...                       ...     ...      ...  ...   \n",
      "7883      US           US43              Survivor: 43      43       13   24   \n",
      "7884      US           US43              Survivor: 43      43       13   25   \n",
      "7885      US           US43              Survivor: 43      43       13   25   \n",
      "7886      US           US43              Survivor: 43      43       13   25   \n",
      "7887      US           US43              Survivor: 43      43       13   25   \n",
      "\n",
      "     tribe_status   tribe castaway    immunity  ... nullified    tie  \\\n",
      "0        Original  Aganoa      Des         NaN  ...     False  False   \n",
      "1        Original  Aganoa     Evan         NaN  ...     False  False   \n",
      "2        Original  Aganoa    Rohan         NaN  ...     False  False   \n",
      "3        Original  Aganoa      Kat         NaN  ...     False  False   \n",
      "4        Original  Aganoa   Phoebe         NaN  ...     False  False   \n",
      "...           ...     ...      ...         ...  ...       ...    ...   \n",
      "7883       Merged    Gaia    Jesse      Hidden  ...     False  False   \n",
      "7884       Merged    Gaia     Owen         NaN  ...     False  False   \n",
      "7885       Merged    Gaia  Cassidy  Individual  ...     False  False   \n",
      "7886       Merged    Gaia   Gabler         NaN  ...     False  False   \n",
      "7887       Merged    Gaia    Jesse         NaN  ...     False  False   \n",
      "\n",
      "     voted_out order vote_order castaway_id vote_id  voted_out_id  winner_id  \\\n",
      "0          Des   1.0        1.0      AU0001  AU0008        AU0001     AU0024   \n",
      "1          Des   1.0        1.0      AU0003  AU0001        AU0001     AU0024   \n",
      "2          Des   1.0        1.0      AU0007  AU0001        AU0001     AU0024   \n",
      "3          Des   1.0        1.0      AU0008  AU0001        AU0001     AU0024   \n",
      "4          Des   1.0        1.0      AU0011  AU0001        AU0001     AU0024   \n",
      "...        ...   ...        ...         ...     ...           ...        ...   \n",
      "7883     Karla  14.0        1.0      US0634  US0636        US0636     US0638   \n",
      "7884     Jesse  15.0        1.0      US0642     NaN        US0634     US0638   \n",
      "7885     Jesse  15.0        1.0      US0627     NaN        US0634     US0638   \n",
      "7886     Jesse  15.0        1.0      US0638     NaN        US0634     US0638   \n",
      "7887     Jesse  15.0        1.0      US0634     NaN        US0634     US0638   \n",
      "\n",
      "     IsWinner  \n",
      "0       False  \n",
      "1       False  \n",
      "2       False  \n",
      "3       False  \n",
      "4       False  \n",
      "...       ...  \n",
      "7883    False  \n",
      "7884    False  \n",
      "7885    False  \n",
      "7886     True  \n",
      "7887    False  \n",
      "\n",
      "[7888 rows x 24 columns]\n"
     ]
    },
    {
     "name": "stderr",
     "output_type": "stream",
     "text": [
      "C:\\Users\\bejes\\AppData\\Local\\Temp\\ipykernel_21428\\1396437928.py:12: FutureWarning: Not prepending group keys to the result index of transform-like apply. In the future, the group keys will be included in the index, regardless of whether the applied function returns a like-indexed object.\n",
      "To preserve the previous behavior, use\n",
      "\n",
      "\t>>> .groupby(..., group_keys=False)\n",
      "\n",
      "To adopt the future behavior and silence this warning, use \n",
      "\n",
      "\t>>> .groupby(..., group_keys=True)\n",
      "  new_df = grouped_votes.apply(check_if_winner).reset_index(drop=True)\n"
     ]
    }
   ],
   "source": [
    "merged_df = vote_history.merge(winner_df, how='left', on='version_season')\n",
    "merged_df.dropna(subset=['winner_id'], inplace=True)\n",
    "# Create a new column indicating if the player is a winner\n",
    "#merged_df['IsWinner'] = ~merged_df['winner_id'].isna()\n",
    "grouped_votes = merged_df.groupby('version_season')\n",
    "\n",
    "# Define a function to determine if a player won in a season\n",
    "def check_if_winner(group):\n",
    "    group['IsWinner'] = group['castaway_id'] == group['winner_id']\n",
    "    return group\n",
    "\n",
    "new_df = grouped_votes.apply(check_if_winner).reset_index(drop=True)\n",
    "print(new_df)"
   ]
  },
  {
   "cell_type": "code",
   "execution_count": 29,
   "id": "559d9335",
   "metadata": {},
   "outputs": [
    {
     "name": "stdout",
     "output_type": "stream",
     "text": [
      "   version_season castaway_id  vote_count winner_id  IsWinner\n",
      "0            AU01      AU0001           7    AU0024     False\n",
      "1            AU01      AU0002           5    AU0024     False\n",
      "2            AU01      AU0003           5    AU0024     False\n",
      "3            AU01      AU0004           2    AU0024     False\n",
      "4            AU01      AU0005          10    AU0024     False\n",
      "5            AU01      AU0006           6    AU0024     False\n",
      "6            AU01      AU0007           2    AU0024     False\n",
      "7            AU01      AU0008          10    AU0024     False\n",
      "8            AU01      AU0009           6    AU0024     False\n",
      "9            AU01      AU0010           2    AU0024     False\n",
      "10           AU01      AU0011          12    AU0024     False\n",
      "11           AU01      AU0012          15    AU0024     False\n",
      "12           AU01      AU0013          10    AU0024     False\n",
      "13           AU01      AU0014          20    AU0024     False\n",
      "14           AU01      AU0015          11    AU0024     False\n",
      "15           AU01      AU0016          15    AU0024     False\n",
      "16           AU01      AU0017           5    AU0024     False\n",
      "17           AU01      AU0018           4    AU0024     False\n",
      "18           AU01      AU0019           6    AU0024     False\n",
      "19           AU01      AU0020           6    AU0024     False\n",
      "20           AU01      AU0021           9    AU0024     False\n",
      "21           AU01      AU0022           6    AU0024     False\n",
      "22           AU01      AU0023           1    AU0024     False\n",
      "23           AU01      AU0024          11    AU0024      True\n",
      "24           AU02      AU0025          13    AU0048     False\n",
      "25           AU02      AU0026           5    AU0048     False\n",
      "26           AU02      AU0027           7    AU0048     False\n",
      "27           AU02      AU0028           3    AU0048     False\n",
      "28           AU02      AU0029           5    AU0048     False\n",
      "29           AU02      AU0030           9    AU0048     False\n"
     ]
    },
    {
     "name": "stderr",
     "output_type": "stream",
     "text": [
      "C:\\Users\\bejes\\AppData\\Local\\Temp\\ipykernel_21428\\1991434037.py:15: FutureWarning: Not prepending group keys to the result index of transform-like apply. In the future, the group keys will be included in the index, regardless of whether the applied function returns a like-indexed object.\n",
      "To preserve the previous behavior, use\n",
      "\n",
      "\t>>> .groupby(..., group_keys=False)\n",
      "\n",
      "To adopt the future behavior and silence this warning, use \n",
      "\n",
      "\t>>> .groupby(..., group_keys=True)\n",
      "  vote_df = grouped_votes.apply(check_if_winner).reset_index(drop=True)\n"
     ]
    }
   ],
   "source": [
    "# count number of votes for each castaway \n",
    "vote_count = vote_history.groupby(['version_season', 'vote_id'])['vote_id'].count().reset_index(name='vote_count')\n",
    "\n",
    "merged_df = vote_count.merge(winner_df, how='left', on='version_season')\n",
    "merged_df.dropna(subset=['winner_id'], inplace=True)\n",
    "# Create a new column indicating if the player is a winner\n",
    "#merged_df['IsWinner'] = ~merged_df['winner_id'].isna()\n",
    "grouped_votes = merged_df.groupby('version_season')\n",
    "\n",
    "# Define a function to determine if a player won in a season\n",
    "def check_if_winner(group):\n",
    "    group['IsWinner'] = group['vote_id'] == group['winner_id']\n",
    "    return group\n",
    "\n",
    "vote_df = grouped_votes.apply(check_if_winner).reset_index(drop=True)\n",
    "vote_df = vote_df.rename(columns = {\"vote_id\" : \"castaway_id\"})\n",
    "print(vote_df.head(30))"
   ]
  },
  {
   "cell_type": "code",
<<<<<<< HEAD
   "execution_count": 135,
   "id": "9ecf13fd",
   "metadata": {},
   "outputs": [
    {
     "name": "stdout",
     "output_type": "stream",
     "text": [
      "     version_season castaway_id  vote_count winner_id  IsWinner  age  \\\n",
      "0              AU01      AU0001           7    AU0024     False   59   \n",
      "1              AU01      AU0002           5    AU0024     False   36   \n",
      "2              AU01      AU0003           5    AU0024     False   30   \n",
      "3              AU01      AU0004           2    AU0024     False   62   \n",
      "4              AU01      AU0005          10    AU0024     False   44   \n",
      "...             ...         ...         ...       ...       ...  ...   \n",
      "2967           US43      US0640           5    US0638     False   43   \n",
      "2968           US43      US0641           6    US0638     False   25   \n",
      "2969           US43      US0642           4    US0638     False   29   \n",
      "2970           US43      US0643           9    US0638     False   24   \n",
      "2971           US43      US0644           7    US0638     False   19   \n",
      "\n",
      "      confessional_tot  \n",
      "0                    1  \n",
      "1                    2  \n",
      "2                    3  \n",
      "3                    4  \n",
      "4                    6  \n",
      "...                ...  \n",
      "2967                 3  \n",
      "2968                10  \n",
      "2969                13  \n",
      "2970                 9  \n",
      "2971                11  \n",
      "\n",
      "[2972 rows x 7 columns]\n"
=======
   "execution_count": 30,
   "id": "24f5d6aa",
   "metadata": {},
   "outputs": [
    {
     "ename": "SyntaxError",
     "evalue": "'(' was never closed (2716901142.py, line 2)",
     "output_type": "error",
     "traceback": [
      "\u001b[1;36m  Cell \u001b[1;32mIn[30], line 2\u001b[1;36m\u001b[0m\n\u001b[1;33m    merged_df = pd.merge(merged_df, confessionals[['castaway_id, ']]\u001b[0m\n\u001b[1;37m                        ^\u001b[0m\n\u001b[1;31mSyntaxError\u001b[0m\u001b[1;31m:\u001b[0m '(' was never closed\n"
>>>>>>> df74cc44af45e1e45d8cbd6ba36161fcc7da3aef
     ]
    }
   ],
   "source": [
    "# Add age to merged_df\n",
    "merged_df = pd.merge(vote_df, castaways[['castaway_id', 'age']], on='castaway_id')\n",
<<<<<<< HEAD
    "# Add confessional_count to merge_df\n",
    "# count number of confessionals for each castaway per season\n",
    "confessional_count = confessionals.groupby(['version_season', 'castaway_id'])['confessional_count'].count().reset_index(name='confessional_tot')\n",
    "merged_df = pd.merge(merged_df, confessional_count[['castaway_id', 'confessional_tot']], on='castaway_id')\n",
=======
    "merged_df = pd.merge(merged_df, confessionals[['castaway_id, ']]\n",
>>>>>>> df74cc44af45e1e45d8cbd6ba36161fcc7da3aef
    "print(merged_df)"
   ]
  },
  {
<<<<<<< HEAD
   "cell_type": "code",
   "execution_count": 136,
   "id": "77f3498d",
=======
   "cell_type": "markdown",
   "id": "fe118527",
>>>>>>> df74cc44af45e1e45d8cbd6ba36161fcc7da3aef
   "metadata": {},
   "outputs": [
    {
     "name": "stdout",
     "output_type": "stream",
     "text": [
      "     version_season castaway_id  vote_count winner_id  IsWinner  age  \\\n",
      "0              AU01      AU0001           7    AU0024     False   59   \n",
      "1              AU01      AU0002           5    AU0024     False   36   \n",
      "2              AU01      AU0003           5    AU0024     False   30   \n",
      "3              AU01      AU0004           2    AU0024     False   62   \n",
      "4              AU01      AU0005          10    AU0024     False   44   \n",
      "...             ...         ...         ...       ...       ...  ...   \n",
      "2967           US43      US0640           5    US0638     False   43   \n",
      "2968           US43      US0641           6    US0638     False   25   \n",
      "2969           US43      US0642           4    US0638     False   29   \n",
      "2970           US43      US0643           9    US0638     False   24   \n",
      "2971           US43      US0644           7    US0638     False   19   \n",
      "\n",
      "      confessional_tot age_group  \n",
      "0                    1     50-60  \n",
      "1                    2     30-40  \n",
      "2                    3     30-40  \n",
      "3                    4       60+  \n",
      "4                    6     40-50  \n",
      "...                ...       ...  \n",
      "2967                 3     40-50  \n",
      "2968                10     18-30  \n",
      "2969                13     18-30  \n",
      "2970                 9     18-30  \n",
      "2971                11     18-30  \n",
      "\n",
      "[2972 rows x 8 columns]\n"
     ]
    }
   ],
   "source": [
    "# Create age group bins to represent different age groups \n",
    "# Define the age groups and corresponding labels\n",
    "age_bins = [0, 18, 30, 40, 50, 60, float('inf')]\n",
    "age_labels = ['<18', '18-30', '30-40', '40-50', '50-60', '60+']\n",
    "\n",
    "# create new column age_group with age groups based on age \n",
    "merged_df['age_group'] = pd.cut(merged_df['age'], bins=age_bins, labels = age_labels, right=False)\n",
    "print(merged_df)"
   ]
  },
  {
   "cell_type": "markdown",
   "id": "9c39d473",
   "metadata": {},
   "source": [
    "### Correlation Plot"
   ]
  },
  {
   "cell_type": "code",
<<<<<<< HEAD
   "execution_count": 137,
   "id": "e7217ee7",
   "metadata": {},
   "outputs": [
    {
     "data": {
      "image/png": "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\n",
      "text/plain": [
       "<Figure size 800x600 with 2 Axes>"
      ]
     },
     "metadata": {},
     "output_type": "display_data"
    }
   ],
=======
   "execution_count": null,
   "id": "4c69c52b",
   "metadata": {},
   "outputs": [],
>>>>>>> df74cc44af45e1e45d8cbd6ba36161fcc7da3aef
   "source": [
    "# Calculate the correlation coefficient\n",
    "correlation_matrix = merged_df.corr()\n",
    "\n",
    "# Create a correlation heatmap\n",
    "plt.figure(figsize=(8, 6))\n",
    "sns.heatmap(correlation_matrix, annot=True, cmap='coolwarm')\n",
    "\n",
    "# Set plot title\n",
    "plt.title('Correlation Plot')\n",
    "\n",
    "# Show the plot\n",
    "plt.show()"
   ]
  },
  {
<<<<<<< HEAD
   "cell_type": "markdown",
   "id": "bd5778e5",
   "metadata": {},
=======
   "cell_type": "code",
   "execution_count": null,
   "id": "74d440be",
   "metadata": {},
   "outputs": [],
>>>>>>> df74cc44af45e1e45d8cbd6ba36161fcc7da3aef
   "source": [
    "### Violin Plot for Age\n",
    "\n",
    "Most players are between 25-35 years old."
   ]
  },
  {
   "cell_type": "code",
<<<<<<< HEAD
   "execution_count": 5,
   "id": "db347ec4",
   "metadata": {},
   "outputs": [
    {
     "data": {
      "image/png": "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\n",
      "text/plain": [
       "<Figure size 640x480 with 1 Axes>"
      ]
     },
     "metadata": {},
     "output_type": "display_data"
    }
   ],
=======
   "execution_count": null,
   "id": "ec38f515",
   "metadata": {},
   "outputs": [],
>>>>>>> df74cc44af45e1e45d8cbd6ba36161fcc7da3aef
   "source": [
    "# Create a violin plot of the age column from the castaways.csv data\n",
    "sns.violinplot(x=dataframes['castaways.csv']['age'])\n",
    "plt.show()"
   ]
  },
  {
   "cell_type": "code",
<<<<<<< HEAD
   "execution_count": 119,
   "id": "b324bdac",
   "metadata": {},
   "outputs": [
    {
     "data": {
      "image/png": "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\n",
      "text/plain": [
       "<Figure size 640x480 with 1 Axes>"
      ]
     },
     "metadata": {},
     "output_type": "display_data"
    }
   ],
=======
   "execution_count": null,
   "id": "623cfedb",
   "metadata": {},
   "outputs": [],
>>>>>>> df74cc44af45e1e45d8cbd6ba36161fcc7da3aef
   "source": [
    "# Group the DataFrame by 'Season', 'AgeGroup', and 'IsWinner', and calculate the count\n",
    "grouped_df = merged_df.groupby(['version_season', 'age_group', 'IsWinner']).size().reset_index(name='Count')\n",
    "\n",
    "# Pivot the data to have age groups as columns\n",
    "pivot_df = grouped_df.pivot_table(index='version_season', columns='age_group', values='Count', fill_value=0)\n",
    "\n",
    "# Plot the number of people in each age group per season, color-coded based on winner status\n",
    "ax = pivot_df.plot(kind='bar', stacked=True, colormap='coolwarm')\n",
    "\n",
    "# Set plot labels and title\n",
    "ax.set_xlabel('Season')\n",
    "ax.set_ylabel('Number of People')\n",
    "ax.set_title('Number of People in Age Group per Season (Color-coded on Winner)')\n",
    "\n",
    "# Show the plot\n",
    "plt.show()"
   ]
  },
  {
   "cell_type": "markdown",
   "id": "6ac07f1c",
   "metadata": {},
   "source": [
<<<<<<< HEAD
    "#### Scatter Plot of Age color-coded by Winner\n",
    "\n",
    "From this plot we can see that most winners are under around 45 years old. There is one outlier of a winner around 60 years old. "
=======
    "### Violin Plot for Age\n",
    "\n",
    "Most players are between 25-35 years old."
>>>>>>> df74cc44af45e1e45d8cbd6ba36161fcc7da3aef
   ]
  },
  {
   "cell_type": "code",
<<<<<<< HEAD
   "execution_count": 116,
   "id": "5e180fbe",
   "metadata": {},
   "outputs": [
    {
     "data": {
      "image/png": "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\n",
      "text/plain": [
       "<Figure size 640x480 with 1 Axes>"
      ]
     },
     "metadata": {},
     "output_type": "display_data"
    }
   ],
=======
   "execution_count": null,
   "id": "db347ec4",
   "metadata": {},
   "outputs": [],
>>>>>>> df74cc44af45e1e45d8cbd6ba36161fcc7da3aef
   "source": [
    "plt.scatter(merged_df['age'], merged_df['castaway_id'], c=merged_df['IsWinner'].map({False: 'blue', True: 'red'}))\n",
    "# Set plot labels and title\n",
    "plt.xlabel('Age')\n",
    "plt.ylabel('Castaway ID')\n",
    "plt.title('Scatter Plot of Age (color-coded by IsWinner)')\n",
    "\n",
    "# Show the plot\n",
    "plt.show()"
   ]
  },
  {
   "cell_type": "markdown",
<<<<<<< HEAD
   "id": "2461227d",
=======
   "id": "46ed44a0",
>>>>>>> df74cc44af45e1e45d8cbd6ba36161fcc7da3aef
   "metadata": {},
   "source": [
    "### Challenge Types Bar Plot\n",
    "\n",
    "From this plot, we see that there are a significant larger amount of race challenges and significantly less food, knowledge, memory and fire challenges in our data. "
   ]
  },
  {
   "cell_type": "code",
<<<<<<< HEAD
   "execution_count": 59,
   "id": "79279b01",
=======
   "execution_count": null,
   "id": "5697b229",
>>>>>>> df74cc44af45e1e45d8cbd6ba36161fcc7da3aef
   "metadata": {},
   "outputs": [],
   "source": [
    "# Count the number of TRUE values in each column from the 3rd column onward\n",
    "true_counts = (dataframes['challenge_description.csv'].iloc[:, 2:] == True).sum()\n",
    "\n",
    "# Create a bar chart showing the number of TRUE values in each column\n",
    "true_counts.plot(kind='bar')\n",
    "\n",
    "print(true_counts)\n",
    "\n",
    "# Add labels and title\n",
    "plt.xlabel('Column')\n",
    "plt.ylabel('Number of challanges')\n",
    "plt.title('Number of each type of challange')\n",
    "\n",
    "# Rotate x-axis labels by 90 degrees\n",
    "plt.xticks(rotation=90)\n",
    "\n",
    "# Show the plot\n",
    "plt.show()"
   ]
  },
  {
   "cell_type": "markdown",
<<<<<<< HEAD
   "id": "396c5626",
=======
   "id": "33b03504",
>>>>>>> df74cc44af45e1e45d8cbd6ba36161fcc7da3aef
   "metadata": {},
   "source": [
    "### Challenge Rewards by Gender\n",
    "\n",
    "There seems to be a fairly equal amount of genders in each category of reward and immunity challenges. We could further investigate different attributes and their relationship with the challenge. "
   ]
  },
  {
   "cell_type": "code",
<<<<<<< HEAD
   "execution_count": 60,
   "id": "73be9305",
=======
   "execution_count": null,
   "id": "1da8acca",
>>>>>>> df74cc44af45e1e45d8cbd6ba36161fcc7da3aef
   "metadata": {},
   "outputs": [],
   "source": [
    "# Merge challenge_results and castaway_details dataframes on castaway_id\n",
    "merged_df = pd.merge(dataframes['challenge_results.csv'], dataframes['castaway_details.csv'], on='castaway_id')\n",
    "\n",
    "# Group data by challenge type and gender and count number of challenges won by each group\n",
    "grouped_df = merged_df.groupby(['challenge_type', 'gender'])['challenge_id'].count().unstack()\n",
    "\n",
    "# Create a stacked bar chart\n",
    "grouped_df.plot.bar(stacked=True)\n",
    "\n",
    "# Add labels and title\n",
    "plt.xlabel('Challenge Type')\n",
    "plt.ylabel('Number of Challenges Won')\n",
    "plt.title('Number of Challenges Won by Gender')\n",
    "\n",
    "# Rotate x-axis labels by 90 degrees\n",
    "plt.xticks(rotation=90)\n",
    "\n",
    "# Adjust the bottom margin of the plot\n",
    "plt.gcf().subplots_adjust(bottom=0.2)\n",
    "\n",
    "# Show the plot\n",
    "plt.show()"
   ]
  },
  {
   "cell_type": "markdown",
<<<<<<< HEAD
   "id": "f7025a6d",
=======
   "id": "44f4c502",
>>>>>>> df74cc44af45e1e45d8cbd6ba36161fcc7da3aef
   "metadata": {},
   "source": [
    "### Challenges Won by Gender"
   ]
  },
  {
   "cell_type": "code",
<<<<<<< HEAD
   "execution_count": 61,
   "id": "0278f632",
=======
   "execution_count": null,
   "id": "79cc6261",
>>>>>>> df74cc44af45e1e45d8cbd6ba36161fcc7da3aef
   "metadata": {},
   "outputs": [],
   "source": [
    "# Remove the last 2 characters of challange_id so it can be used a primary key\n",
    "dataframes['challenge_description.csv']['challenge_id'] = dataframes['challenge_description.csv']['challenge_id'].str[:-2]\n",
    "\n",
    "# Merge challenge_results and castaway_details dataframes on castaway_id\n",
    "castaway_results = pd.merge(dataframes['challenge_results.csv'], dataframes['castaway_details.csv'], on='castaway_id')\n",
    "\n",
    "# Merge challenge_results and challenge_description dataframes on challenge_id\n",
    "challenges = pd.merge(castaway_results, dataframes['challenge_description.csv'], on='challenge_id')\n",
    "\n",
    "# Count the number of challenge categories won grouped by gender\n",
    "challenges_counts_grouped = (challenges.set_index('gender').iloc[:, 29:] == True).stack().groupby(level=[0, 1]).sum().unstack(level=0)\n",
    "\n",
    "print(challenges_counts_grouped)\n",
    "\n",
    "challenges_counts_grouped = challenges_counts_grouped[['Male', 'Female', 'Non-binary']]\n",
    "\n",
    "# Create a stacked bar chart\n",
    "bar_chart_axes = challenges_counts_grouped.plot.bar(stacked=True, color={'Male': '#87CEEB', 'Female': 'pink', 'Non-binary': 'green'})\n",
    "\n",
    "# Get the challenge types from challenge_description.csv\n",
    "genders = dataframes['challenge_description.csv'].columns[2:]\n",
    "\n",
    "# Set the xtick labels to the challenge types\n",
    "plt.xticks(range(len(genders)), genders, rotation=90)\n",
    "\n",
    "# Add labels and title\n",
    "plt.xlabel('Challenge Category')\n",
    "plt.ylabel('Number of Challenges Won')\n",
    "plt.title('Number of Challenges Won by Gender')\n",
    "\n",
    "# Change the order of the legend\n",
    "handles, labels = bar_chart_axes.get_legend_handles_labels()\n",
    "bar_chart_axes.legend(reversed(handles), reversed(labels))\n",
    "\n",
    "# Show the plot\n",
    "plt.show()"
   ]
  },
  {
   "cell_type": "code",
<<<<<<< HEAD
   "execution_count": 62,
   "id": "a95f5865",
=======
   "execution_count": null,
   "id": "ac9f142f",
>>>>>>> df74cc44af45e1e45d8cbd6ba36161fcc7da3aef
   "metadata": {},
   "outputs": [],
   "source": [
    "# Count the number of challenge categories won grouped by gender but with gender on the x axis\n",
    "challenges_counts_grouped = (challenges.iloc[:, 29:] == True).groupby(challenges['gender']).sum()\n",
    "\n",
    "# Change the column name from 'race_y' to 'race'\n",
    "challenges_counts_grouped = challenges_counts_grouped.rename(columns={'race_y': 'race'})\n",
    "\n",
    "# Create a dictionary of colors for each challenge type\n",
    "colors = {\n",
    "    'water': '#1E90FF', # dodger blue\n",
    "    'fire': '#FF4500', # orange red\n",
    "    'memory': '#FFDAB9', # peach puff\n",
    "    'knowledge': '#4B0082', # indigo\n",
    "    'food': '#FF69B4', # hot pink\n",
    "    'balance': '#00BFFF', # deep sky blue\n",
    "    'turn_based': '#8B008B', # dark magenta\n",
    "    'strength': '#8B0000', # dark red\n",
    "    'endurance': '#228B22', # forest green\n",
    "    'precision': '#00FF7F', # spring green\n",
    "    'race': '#FFD700', # gold\n",
    "    'puzzle': '#FFA500' # orange\n",
    "}\n",
    "\n",
    "# Create a stacked bar chart\n",
    "bar_chart_axes = challenges_counts_grouped.plot.bar(stacked=True, color=colors)\n",
    "\n",
    "# Get the gender categories for the x axis labels\n",
    "genders = dataframes['castaway_details.csv']['gender'].unique().tolist()\n",
    "\n",
    "# Set the xtick labels to the challenge types\n",
    "plt.xticks(range(len(genders)), genders, rotation=90)\n",
    "\n",
    "# Add labels and title\n",
    "plt.xlabel('Gender')\n",
    "plt.ylabel('Number of Challenges Won')\n",
    "plt.title('Number of Challenges Won by Gender')\n",
    "\n",
    "# Change the order of the legend\n",
    "handles, labels = bar_chart_axes.get_legend_handles_labels()\n",
    "bar_chart_axes.legend(reversed(handles), reversed(labels))\n",
    "\n",
    "# Show the plot\n",
    "plt.show()"
   ]
  },
  {
   "cell_type": "markdown",
<<<<<<< HEAD
   "id": "b9cd9856",
=======
   "id": "912866c1",
>>>>>>> df74cc44af45e1e45d8cbd6ba36161fcc7da3aef
   "metadata": {},
   "source": [
    "### Season Palettes"
   ]
  },
  {
   "cell_type": "code",
<<<<<<< HEAD
   "execution_count": 63,
   "id": "d5396a98",
=======
   "execution_count": null,
   "id": "7021c3a6",
>>>>>>> df74cc44af45e1e45d8cbd6ba36161fcc7da3aef
   "metadata": {},
   "outputs": [],
   "source": [
    "# assuming your DataFrame is named df\n",
    "colors = dataframes['season_palettes.csv']['palette']\n",
    "colors = colors.dropna() # Remove any nan values from the colors variable\n",
    "\n",
    "# Get the unique season values and sort them in ascending order\n",
    "seasons = dataframes['season_palettes.csv']['season'].unique()\n",
    "seasons.sort()\n",
    "\n",
    "# Set the spacing between different season values\n",
    "spacing = 0.9\n",
    "\n",
    "fig, ax = plt.subplots()\n",
    "for season in seasons:\n",
    "    # Get the colors for the current season\n",
    "    season_colors = dataframes['season_palettes.csv'][dataframes['season_palettes.csv']['season'] == season]['palette']\n",
    "    season_colors = season_colors.dropna() # Remove any nan values from the season_colors variable\n",
    "    n_colors = len(season_colors)\n",
    "    \n",
    "    for i, color in enumerate(season_colors):\n",
    "        ax.add_patch(plt.Rectangle((i/n_colors + (season-1)*(1+spacing), 0), 1/n_colors, 1, color=color))\n",
    "ax.set_xlim(0, len(seasons)*(1+spacing)-spacing)\n",
    "ax.set_ylim(0, 1)\n",
    "ax.axis('off')\n",
    "plt.show()"
   ]
  },
  {
   "cell_type": "markdown",
<<<<<<< HEAD
   "id": "46837da1",
=======
   "id": "7dd39086",
>>>>>>> df74cc44af45e1e45d8cbd6ba36161fcc7da3aef
   "metadata": {},
   "source": [
    "### Tribe Colors"
   ]
  },
  {
   "cell_type": "code",
<<<<<<< HEAD
   "execution_count": 64,
   "id": "bbdaf39d",
=======
   "execution_count": null,
   "id": "cca5b1af",
>>>>>>> df74cc44af45e1e45d8cbd6ba36161fcc7da3aef
   "metadata": {},
   "outputs": [],
   "source": [
    "dataframes['tribe_colours.csv']['tribe_status'] = dataframes['tribe_colours.csv']['tribe_status'].astype('category')\n",
    "\n",
    "# assuming your DataFrame is named df\n",
    "colors = dataframes['tribe_colours.csv']['tribe_colour']\n",
    "n_colors = len(colors)\n",
    "\n",
    "fig, ax = plt.subplots()\n",
    "for i, color in enumerate(colors):\n",
    "    ax.add_patch(plt.Rectangle((i/n_colors, 0), 1/n_colors, 1, color=color))\n",
    "ax.set_xlim(0, 1)\n",
    "ax.set_ylim(0, 1)\n",
    "ax.axis('off')\n",
    "plt.show()"
   ]
  },
  {
   "cell_type": "code",
<<<<<<< HEAD
   "execution_count": 65,
   "id": "c8eebe44",
=======
   "execution_count": null,
   "id": "289f9cc3",
>>>>>>> df74cc44af45e1e45d8cbd6ba36161fcc7da3aef
   "metadata": {},
   "outputs": [],
   "source": [
    "df = dataframes['tribe_colours.csv'][dataframes['tribe_colours.csv']['version_season'] == 'AU01']\n",
    "# Create a count plot\n",
    "sns.countplot(data=df, x='tribe_status', hue='tribe_colour', palette=sns.color_palette(df['tribe_colour'].unique()))\n",
    "\n",
    "# Show the plot\n",
    "plt.show()"
   ]
  },
  {
   "cell_type": "markdown",
<<<<<<< HEAD
   "id": "28b0fff7",
=======
   "id": "b79e323d",
>>>>>>> df74cc44af45e1e45d8cbd6ba36161fcc7da3aef
   "metadata": {},
   "source": [
    "### Viewers over time"
   ]
  },
  {
   "cell_type": "code",
<<<<<<< HEAD
   "execution_count": 66,
   "id": "64c81f3a",
=======
   "execution_count": null,
   "id": "ca7d93d7",
>>>>>>> df74cc44af45e1e45d8cbd6ba36161fcc7da3aef
   "metadata": {},
   "outputs": [],
   "source": [
    "# Create a line plot of viewers over time\n",
    "fig, ax1 = plt.subplots()\n",
    "sns.lineplot(data=dataframes['viewers.csv'], x='episode_date', y='viewers', ax=ax1)\n",
    "\n",
    "# Create a secondary y-axis on the right side of the chart\n",
    "ax2 = ax1.twinx()\n",
    "\n",
    "# Create a line plot of imdb_rating over time on the secondary y-axis\n",
    "sns.lineplot(data=dataframes['viewers.csv'], x='episode_date', y='imdb_rating', ax=ax2, color='g')\n",
    "\n",
    "# Set the y-axis labels\n",
    "ax1.set_ylabel('Viewers')\n",
    "ax2.set_ylabel('IMDB Rating')\n",
    "\n",
    "# Set the title of the chart\n",
    "plt.title('Viewers and IMDB rating for each episode over time')\n",
    "\n",
    "plt.show()"
   ]
  },
  {
   "cell_type": "code",
   "execution_count": null,
<<<<<<< HEAD
   "id": "10f25cf0",
=======
   "id": "629437a5",
>>>>>>> df74cc44af45e1e45d8cbd6ba36161fcc7da3aef
   "metadata": {},
   "outputs": [],
   "source": []
  }
 ],
 "metadata": {
  "kernelspec": {
   "display_name": "Python 3 (ipykernel)",
   "language": "python",
   "name": "python3"
  },
  "language_info": {
   "codemirror_mode": {
    "name": "ipython",
    "version": 3
   },
   "file_extension": ".py",
   "mimetype": "text/x-python",
   "name": "python",
   "nbconvert_exporter": "python",
   "pygments_lexer": "ipython3",
   "version": "3.10.9"
  }
 },
 "nbformat": 4,
 "nbformat_minor": 5
}
