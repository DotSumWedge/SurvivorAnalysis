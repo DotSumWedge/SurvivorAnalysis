{
 "cells": [
  {
   "attachments": {},
   "cell_type": "markdown",
   "id": "c6dfc62e",
   "metadata": {},
   "source": [
    "## Survivor Data Modeling"
   ]
  },
  {
   "attachments": {},
   "cell_type": "markdown",
   "id": "2ee31e08",
   "metadata": {},
   "source": [
    "### Import Dependencies"
   ]
  },
  {
   "cell_type": "code",
   "execution_count": 1,
   "id": "639ee194",
   "metadata": {},
   "outputs": [],
   "source": [
    "import pandas as pd\n",
    "import numpy as np\n",
    "\n",
    "import matplotlib.pyplot as plt\n",
    "import seaborn as sns\n",
    "\n",
    "from sklearn import preprocessing\n",
    "from sklearn import svm\n",
    "from sklearn.linear_model import LogisticRegression\n",
    "from sklearn.metrics import accuracy_score\n",
    "from sklearn.model_selection import train_test_split, LeaveOneGroupOut\n",
    "\n",
    "import tensorflow as tf\n",
    "from tensorflow import keras\n",
    "from tensorflow.keras import layers\n",
    "\n",
    "import sys\n",
    "import math\n",
    "import os\n",
    "\n",
    "# Get the current working directory\n",
    "current_dir = os.getcwd()\n",
    "\n",
    "# Get the path to the survivorData directory\n",
    "data_dir = os.path.join(current_dir, '..', 'survivorData')"
   ]
  },
  {
   "attachments": {},
   "cell_type": "markdown",
   "id": "4c4d6aa8",
   "metadata": {},
   "source": [
    "### Read in csv files as Dataframes"
   ]
  },
  {
   "cell_type": "code",
   "execution_count": 2,
   "id": "e239ab31",
   "metadata": {},
   "outputs": [],
   "source": [
    "# List of CSV file names\n",
    "csv_files = [\n",
    "    'advantage_movement.csv',\n",
    "    'boot_mapping.csv',\n",
    "    'castaways.csv',\n",
    "    'castaway_details.csv',\n",
    "    'challenge_description.csv',\n",
    "    'challenge_results.csv',\n",
    "    'confessionals.csv',\n",
    "    'jury_votes.csv',\n",
    "    'screen_time.csv',\n",
    "    'season_palettes.csv',\n",
    "    'season_summary.csv',\n",
    "    'survivor_auction.csv',\n",
    "    'tribe_colours.csv',\n",
    "    'tribe_mapping.csv',\n",
    "    'viewers.csv',\n",
    "    'vote_history.csv'\n",
    "]\n",
    "\n",
    "# Create a dictionary to store the DataFrames\n",
    "dataframes = {}\n",
    "\n",
    "# Loop through each CSV file and read its data into a DataFrame\n",
    "for csv_file in csv_files:\n",
    "    # Specify the relative path to the CSV file\n",
    "    file_path = os.path.join(data_dir, csv_file)\n",
    "    \n",
    "    # Read the data from the CSV file into a pandas DataFrame\n",
    "    df = pd.read_csv(file_path)\n",
    "    \n",
    "    # Store the DataFrame in the dictionary\n",
    "    dataframes[csv_file] = df"
   ]
  },
  {
   "attachments": {},
   "cell_type": "markdown",
   "id": "1c5e475b",
   "metadata": {},
   "source": [
    "### Clean up the data and feature engineer"
   ]
  },
  {
   "cell_type": "code",
   "execution_count": null,
   "id": "0c4624e1",
   "metadata": {},
   "outputs": [],
   "source": [
    "# Convert result to a categorical variable\n",
    "dataframes['castaways.csv']['result'] = pd.Categorical(dataframes['castaways.csv']['result'])\n",
    "dataframes['castaways.csv']['result'] = dataframes['castaways.csv']['result'].cat.codes\n",
    "\n",
    "# Merge challenge_results and castaway_details dataframes on castaway_id\n",
    "castawayAll = pd.merge(dataframes['castaways.csv'], dataframes['castaway_details.csv'], on='castaway_id', how =\"left\")\n",
    "\n",
    "castawayAll['genderNumber'] = np.where(castawayAll['gender'] == 'Male', 1,\n",
    "                                     np.where(castawayAll['gender'] == 'Female', 2,\n",
    "                                              np.where(castawayAll['gender'] == 'Non-binary', 3, 0)))\n",
    "castawayAll['won'] = np.where(castawayAll['result'] == 'Sole Survivor', 1, 0)\n",
    "\n",
    "castawayAll = castawayAll.dropna(subset=['age'])\n",
    "\n",
    "# Drop rows where 'season' is equal to 44\n",
    "castawayAll = castawayAll[castawayAll['season'] != 44]"
   ]
  },
  {
   "cell_type": "code",
   "execution_count": null,
   "id": "3fa1c0d7",
   "metadata": {},
   "outputs": [],
   "source": []
  },
  {
   "cell_type": "code",
   "execution_count": null,
   "id": "15e1402a",
   "metadata": {},
   "outputs": [],
   "source": []
  }
 ],
 "metadata": {
  "kernelspec": {
   "display_name": "Python 3 (ipykernel)",
   "language": "python",
   "name": "python3"
  },
  "language_info": {
   "codemirror_mode": {
    "name": "ipython",
    "version": 3
   },
   "file_extension": ".py",
   "mimetype": "text/x-python",
   "name": "python",
   "nbconvert_exporter": "python",
   "pygments_lexer": "ipython3",
   "version": "3.7.16"
  }
 },
 "nbformat": 4,
 "nbformat_minor": 5
}
