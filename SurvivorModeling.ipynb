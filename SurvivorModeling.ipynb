{
 "cells": [
  {
   "attachments": {},
   "cell_type": "markdown",
   "id": "c6dfc62e",
   "metadata": {},
   "source": [
    "## Survivor Data Modeling"
   ]
  },
  {
   "attachments": {},
   "cell_type": "markdown",
   "id": "2ee31e08",
   "metadata": {},
   "source": [
    "### Import Dependencies"
   ]
  },
  {
   "cell_type": "code",
   "execution_count": 3,
   "id": "639ee194",
   "metadata": {},
   "outputs": [
    {
     "ename": "NameError",
     "evalue": "name '__file__' is not defined",
     "output_type": "error",
     "traceback": [
      "\u001b[1;31m---------------------------------------------------------------------------\u001b[0m",
      "\u001b[1;31mNameError\u001b[0m                                 Traceback (most recent call last)",
      "\u001b[1;32m~\\AppData\\Local\\Temp\\ipykernel_37640\\1668738716.py\u001b[0m in \u001b[0;36m<module>\u001b[1;34m\u001b[0m\n\u001b[0;32m     19\u001b[0m \u001b[1;33m\u001b[0m\u001b[0m\n\u001b[0;32m     20\u001b[0m \u001b[1;31m# Get the path to the survivorData directory\u001b[0m\u001b[1;33m\u001b[0m\u001b[1;33m\u001b[0m\u001b[1;33m\u001b[0m\u001b[0m\n\u001b[1;32m---> 21\u001b[1;33m \u001b[0mdata_dir\u001b[0m \u001b[1;33m=\u001b[0m \u001b[0mos\u001b[0m\u001b[1;33m.\u001b[0m\u001b[0mpath\u001b[0m\u001b[1;33m.\u001b[0m\u001b[0mjoin\u001b[0m\u001b[1;33m(\u001b[0m\u001b[0mos\u001b[0m\u001b[1;33m.\u001b[0m\u001b[0mpath\u001b[0m\u001b[1;33m.\u001b[0m\u001b[0mdirname\u001b[0m\u001b[1;33m(\u001b[0m\u001b[0m__file__\u001b[0m\u001b[1;33m)\u001b[0m\u001b[1;33m,\u001b[0m \u001b[1;34m'..'\u001b[0m\u001b[1;33m,\u001b[0m \u001b[1;34m'survivorData'\u001b[0m\u001b[1;33m)\u001b[0m\u001b[1;33m\u001b[0m\u001b[1;33m\u001b[0m\u001b[0m\n\u001b[0m",
      "\u001b[1;31mNameError\u001b[0m: name '__file__' is not defined"
     ]
    }
   ],
   "source": [
    "import pandas as pd\n",
    "import numpy as np\n",
    "\n",
    "import matplotlib.pyplot as plt\n",
    "import seaborn as sns\n",
    "\n",
    "from sklearn import preprocessing\n",
    "from sklearn import svm\n",
    "from sklearn.metrics import accuracy_score\n",
    "from sklearn.model_selection import train_test_split, LeaveOneGroupOut\n",
    "\n",
    "import tensorflow as tf\n",
    "from tensorflow import keras\n",
    "from tensorflow.keras import layers\n",
    "\n",
    "import sys\n",
    "import math\n",
    "import os\n",
    "\n",
    "# Get the current working directory\n",
    "current_dir = os.getcwd()\n",
    "\n",
    "# Get the path to the survivorData directory\n",
    "data_dir = os.path.join(current_dir, '..', 'survivorData')"
   ]
  },
  {
   "attachments": {},
   "cell_type": "markdown",
   "id": "4c4d6aa8",
   "metadata": {},
   "source": [
    "### Read in csv files as Dataframes"
   ]
  },
  {
   "cell_type": "code",
   "execution_count": null,
   "id": "e239ab31",
   "metadata": {},
   "outputs": [],
   "source": [
    "# List of CSV file names\n",
    "csv_files = [\n",
    "    'advantage_movement.csv',\n",
    "    'boot_mapping.csv',\n",
    "    'castaways.csv',\n",
    "    'castaway_details.csv',\n",
    "    'challenge_description.csv',\n",
    "    'challenge_results.csv',\n",
    "    'confessionals.csv',\n",
    "    'jury_votes.csv',\n",
    "    'screen_time.csv',\n",
    "    'season_palettes.csv',\n",
    "    'season_summary.csv',\n",
    "    'survivor_auction.csv',\n",
    "    'tribe_colours.csv',\n",
    "    'tribe_mapping.csv',\n",
    "    'viewers.csv',\n",
    "    'vote_history.csv'\n",
    "]\n",
    "\n",
    "# Create a dictionary to store the DataFrames\n",
    "dataframes = {}\n",
    "\n",
    "# Loop through each CSV file and read its data into a DataFrame\n",
    "for csv_file in csv_files:\n",
    "    # Specify the relative path to the CSV file\n",
    "    file_path = os.path.join(data_dir, csv_file)\n",
    "    \n",
    "    # Read the data from the CSV file into a pandas DataFrame\n",
    "    df = pd.read_csv(file_path)\n",
    "    \n",
    "    # Store the DataFrame in the dictionary\n",
    "    dataframes[csv_file] = df"
   ]
  },
  {
   "cell_type": "code",
   "execution_count": null,
   "id": "0c4624e1",
   "metadata": {},
   "outputs": [],
   "source": []
  },
  {
   "cell_type": "code",
   "execution_count": null,
   "id": "3fa1c0d7",
   "metadata": {},
   "outputs": [],
   "source": []
  },
  {
   "cell_type": "code",
   "execution_count": null,
   "id": "15e1402a",
   "metadata": {},
   "outputs": [],
   "source": []
  }
 ],
 "metadata": {
  "kernelspec": {
   "display_name": "Python 3 (ipykernel)",
   "language": "python",
   "name": "python3"
  },
  "language_info": {
   "codemirror_mode": {
    "name": "ipython",
    "version": 3
   },
   "file_extension": ".py",
   "mimetype": "text/x-python",
   "name": "python",
   "nbconvert_exporter": "python",
   "pygments_lexer": "ipython3",
   "version": "3.7.16"
  }
 },
 "nbformat": 4,
 "nbformat_minor": 5
}
