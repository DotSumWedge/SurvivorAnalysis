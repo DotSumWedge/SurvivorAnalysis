{
 "cells": [
  {
   "attachments": {},
   "cell_type": "markdown",
   "id": "c6dfc62e",
   "metadata": {},
   "source": [
    "## Survivor Data Modeling"
   ]
  },
  {
   "attachments": {},
   "cell_type": "markdown",
   "id": "2ee31e08",
   "metadata": {},
   "source": [
    "### Import Dependencies"
   ]
  },
  {
   "cell_type": "code",
   "execution_count": 29,
   "id": "639ee194",
   "metadata": {},
   "outputs": [],
   "source": [
    "import pandas as pd\n",
    "import numpy as np\n",
    "\n",
    "import matplotlib.pyplot as plt\n",
    "import seaborn as sns\n",
    "\n",
    "from sklearn import preprocessing\n",
    "from sklearn import svm\n",
    "from sklearn.linear_model import LogisticRegression\n",
    "from sklearn.metrics import accuracy_score\n",
    "from sklearn.model_selection import train_test_split, LeaveOneGroupOut\n",
    "\n",
    "import tensorflow as tf\n",
    "from tensorflow import keras\n",
    "from tensorflow.keras import layers\n",
    "\n",
    "import sys\n",
    "import math\n",
    "import os\n",
    "\n",
    "# Get the current working directory\n",
    "current_dir = os.getcwd()\n",
    "\n",
    "# Get the path to the survivorData directory\n",
    "data_dir = os.path.join(current_dir, '..', 'survivorData')"
   ]
  },
  {
   "attachments": {},
   "cell_type": "markdown",
   "id": "4c4d6aa8",
   "metadata": {},
   "source": [
    "### Read in csv files as Dataframes"
   ]
  },
  {
   "cell_type": "code",
   "execution_count": 30,
   "id": "e239ab31",
   "metadata": {},
   "outputs": [],
   "source": [
    "# List of CSV file names\n",
    "csv_files = [\n",
    "    'advantage_movement.csv',\n",
    "    'boot_mapping.csv',\n",
    "    'castaways.csv',\n",
    "    'castaway_details.csv',\n",
    "    'challenge_description.csv',\n",
    "    'challenge_results.csv',\n",
    "    'confessionals.csv',\n",
    "    'jury_votes.csv',\n",
    "    'screen_time.csv',\n",
    "    'season_palettes.csv',\n",
    "    'season_summary.csv',\n",
    "    'survivor_auction.csv',\n",
    "    'tribe_colours.csv',\n",
    "    'tribe_mapping.csv',\n",
    "    'viewers.csv',\n",
    "    'vote_history.csv'\n",
    "]\n",
    "\n",
    "# Create a dictionary to store the DataFrames\n",
    "dataframes = {}\n",
    "\n",
    "# Loop through each CSV file and read its data into a DataFrame\n",
    "for csv_file in csv_files:\n",
    "    # Specify the relative path to the CSV file\n",
    "    file_path = os.path.join(data_dir, csv_file)\n",
    "    \n",
    "    # Read the data from the CSV file into a pandas DataFrame\n",
    "    df = pd.read_csv(file_path)\n",
    "    \n",
    "    # Store the DataFrame in the dictionary\n",
    "    dataframes[csv_file] = df"
   ]
  },
  {
   "attachments": {},
   "cell_type": "markdown",
   "id": "1c5e475b",
   "metadata": {},
   "source": [
    "### Clean up the data and feature engineer"
   ]
  },
  {
   "cell_type": "code",
   "execution_count": 31,
   "id": "0c4624e1",
   "metadata": {},
   "outputs": [],
   "source": [
    "# Convert tribe_status column to category type\n",
    "dataframes['tribe_colours.csv']['tribe_status'] = dataframes['tribe_colours.csv']['tribe_status'].astype('category')\n",
    "\n",
    "# Convert result to a categorical variable\n",
    "dataframes['castaways.csv']['result'] = pd.Categorical(dataframes['castaways.csv']['result'])\n",
    "dataframes['castaways.csv']['result'] = dataframes['castaways.csv']['result'].cat.codes\n",
    "\n",
    "# Merge challenge_results and castaway_details dataframes on castaway_id\n",
    "castawayAll = pd.merge(dataframes['castaways.csv'], dataframes['castaway_details.csv'], on='castaway_id', how =\"left\")\n",
    "\n",
    "castawayAll['genderNumber'] = np.where(castawayAll['gender'] == 'Male', 1,\n",
    "                                     np.where(castawayAll['gender'] == 'Female', 2,\n",
    "                                              np.where(castawayAll['gender'] == 'Non-binary', 3, 0)))\n",
    "castawayAll['won'] = np.where(castawayAll['result'] == 'Sole Survivor', 1, 0)\n",
    "\n",
    "castawayAll = castawayAll.dropna(subset=['age'])\n",
    "\n",
    "# Drop rows where 'season' is equal to 44\n",
    "castawayAll = castawayAll[castawayAll['season'] != 44]"
   ]
  },
  {
   "attachments": {},
   "cell_type": "markdown",
   "id": "4a0a73ac",
   "metadata": {},
   "source": [
    "### Color prediction with SVM model"
   ]
  },
  {
   "cell_type": "code",
   "execution_count": 32,
   "id": "3fa1c0d7",
   "metadata": {},
   "outputs": [
    {
     "name": "stdout",
     "output_type": "stream",
     "text": [
      "Accuracy: 0.21739130434782608\n",
      "Average Hamming Distance for Incorrect Predictions: 3.891304347826087\n",
      "Average Euclidean Distance for All Predictions: 205.5951583794654\n"
     ]
    },
    {
     "name": "stderr",
     "output_type": "stream",
     "text": [
      "c:\\ProgramData\\Anaconda3\\envs\\tf-gpu\\lib\\site-packages\\sklearn\\utils\\__init__.py:202: FutureWarning: Support for multi-dimensional indexing (e.g. `obj[:, None]`) is deprecated and will be removed in a future version.  Convert to a numpy array before indexing instead.\n",
      "  return array[key] if axis == 0 else array[:, key]\n"
     ]
    }
   ],
   "source": [
    "# Prepare the data for training\n",
    "X = dataframes['tribe_colours.csv']['tribe_status'].values.reshape(-1, 1)\n",
    "y = dataframes['tribe_colours.csv']['tribe_colour']\n",
    "\n",
    "# Split the data into training and testing sets\n",
    "X_train, X_test, y_train, y_test = train_test_split(X, y, test_size=0.2)\n",
    "\n",
    "# Create an SVM model\n",
    "svm_model = svm.SVC()\n",
    "\n",
    "# Train the model\n",
    "svm_model.fit(X_train, y_train)\n",
    "\n",
    "# Make predictions on the test set\n",
    "y_pred = svm_model.predict(X_test)\n",
    "\n",
    "# Calculate accuracy\n",
    "accuracy_svm = accuracy_score(y_test, y_pred)\n",
    "print(\"Accuracy:\", accuracy_svm)\n",
    "\n",
    "# Calculate Hamming distance for all predictions\n",
    "hamming_distances = []\n",
    "\n",
    "for idx in range(len(y_pred)):\n",
    "    hamming_dist = sum(el1 != el2 for el1, el2 in zip(y_pred[idx], y_test.iloc[idx]))\n",
    "    hamming_distances.append(hamming_dist)\n",
    "\n",
    "# Calculate average Hamming distance for incorrect predictions\n",
    "avg_hamming_distance_svm = np.mean(hamming_distances)\n",
    "\n",
    "# The Hamming distance measures the dissimilarity between two strings of equal length. In the context of hex color values, \n",
    "# each character represents a component of the color (e.g., red, green, and blue), and the Hamming distance calculates \n",
    "# the number of positions at which the predicted and actual color values differ.\n",
    "\n",
    "# Since hex color values consist of six characters (e.g., #RRGGBB), the Hamming distance for hex color values can range from 0 to 6.\n",
    "\n",
    "# Print average Hamming distance for incorrect predictions\n",
    "print(\"Average Hamming Distance for Incorrect Predictions:\", avg_hamming_distance_svm)\n",
    "\n",
    "# Calculate Euclidean distance for color similarity\n",
    "euclidean_distances = []\n",
    "for idx in range(len(y_pred)):\n",
    "    predicted_color = y_pred[idx][1:]  # Remove the \"#\" character from the predicted color\n",
    "    actual_color = y_test.iloc[idx][1:]  # Remove the \"#\" character from the actual color\n",
    "    \n",
    "    # Convert hex color values to RGB tuples\n",
    "    predicted_rgb = tuple(int(predicted_color[i:i+2], 16) for i in (0, 2, 4))\n",
    "    actual_rgb = tuple(int(actual_color[i:i+2], 16) for i in (0, 2, 4))\n",
    "    \n",
    "    # Calculate Euclidean distance between RGB tuples\n",
    "    distance = math.sqrt(sum((p - a) ** 2 for p, a in zip(predicted_rgb, actual_rgb)))\n",
    "    euclidean_distances.append(distance)\n",
    "\n",
    "# Calculate average Euclidean distance for all predictions\n",
    "avg_euclidean_distance_svm = np.mean(euclidean_distances)\n",
    "\n",
    "# The Euclidean distance measures the spatial or geometric distance between two colors in the RGB color space.\n",
    "# In the RGB color space, each color is represented by three components: red (R), green (G), and blue (B). \n",
    "# The Euclidean distance calculates the straight-line distance between two colors in this three-dimensional space.\n",
    "\n",
    "# Print average Euclidean distance for all predictions\n",
    "print(\"Average Euclidean Distance for All Predictions:\", avg_euclidean_distance_svm)"
   ]
  },
  {
   "attachments": {},
   "cell_type": "markdown",
   "id": "59301fe6",
   "metadata": {},
   "source": [
    "### Color prediction with logistic regression model"
   ]
  },
  {
   "cell_type": "code",
   "execution_count": 33,
   "id": "15e1402a",
   "metadata": {},
   "outputs": [
    {
     "name": "stdout",
     "output_type": "stream",
     "text": [
      "Accuracy: 0.21739130434782608\n",
      "Average Hamming Distance for Incorrect Predictions: 4.0\n",
      "Average Euclidean Distance for All Predictions: 195.6007378809655\n"
     ]
    },
    {
     "name": "stderr",
     "output_type": "stream",
     "text": [
      "c:\\ProgramData\\Anaconda3\\envs\\tf-gpu\\lib\\site-packages\\sklearn\\linear_model\\_logistic.py:818: ConvergenceWarning: lbfgs failed to converge (status=1):\n",
      "STOP: TOTAL NO. of ITERATIONS REACHED LIMIT.\n",
      "\n",
      "Increase the number of iterations (max_iter) or scale the data as shown in:\n",
      "    https://scikit-learn.org/stable/modules/preprocessing.html\n",
      "Please also refer to the documentation for alternative solver options:\n",
      "    https://scikit-learn.org/stable/modules/linear_model.html#logistic-regression\n",
      "  extra_warning_msg=_LOGISTIC_SOLVER_CONVERGENCE_MSG,\n"
     ]
    }
   ],
   "source": [
    "# Create a Logistic Regression model\n",
    "logreg_model = LogisticRegression()\n",
    "\n",
    "# Train the model\n",
    "logreg_model.fit(X_train, y_train)\n",
    "\n",
    "# Make predictions on the test set\n",
    "y_pred = logreg_model.predict(X_test)\n",
    "\n",
    "# Calculate accuracy\n",
    "accuracy_logistic_regression = accuracy_score(y_test, y_pred)\n",
    "print(\"Accuracy:\", accuracy_logistic_regression)\n",
    "\n",
    "# Calculate Hamming distance for all predictions\n",
    "hamming_distances = []\n",
    "\n",
    "for idx in range(len(y_pred)):\n",
    "    hamming_dist = sum(el1 != el2 for el1, el2 in zip(y_pred[idx], y_test.iloc[idx]))\n",
    "    hamming_distances.append(hamming_dist)\n",
    "\n",
    "# Calculate average Hamming distance for incorrect predictions\n",
    "avg_hamming_distance_logistic_regression = np.mean(hamming_distances)\n",
    "\n",
    "# The Hamming distance measures the dissimilarity between two strings of equal length. In the context of hex color values, \n",
    "# each character represents a component of the color (e.g., red, green, and blue), and the Hamming distance calculates \n",
    "# the number of positions at which the predicted and actual color values differ.\n",
    "\n",
    "# Since hex color values consist of six characters (e.g., #RRGGBB), the Hamming distance for hex color values can range from 0 to 6.\n",
    "\n",
    "# Print average Hamming distance for incorrect predictions\n",
    "print(\"Average Hamming Distance for Incorrect Predictions:\", avg_hamming_distance_logistic_regression)\n",
    "\n",
    "# Calculate Euclidean distance for color similarity\n",
    "euclidean_distances = []\n",
    "for idx in range(len(y_pred)):\n",
    "    predicted_color = y_pred[idx][1:]  # Remove the \"#\" character from the predicted color\n",
    "    actual_color = y_test.iloc[idx][1:]  # Remove the \"#\" character from the actual color\n",
    "    \n",
    "    # Convert hex color values to RGB tuples\n",
    "    predicted_rgb = tuple(int(predicted_color[i:i+2], 16) for i in (0, 2, 4))\n",
    "    actual_rgb = tuple(int(actual_color[i:i+2], 16) for i in (0, 2, 4))\n",
    "    \n",
    "    # Calculate Euclidean distance between RGB tuples\n",
    "    distance = math.sqrt(sum((p - a) ** 2 for p, a in zip(predicted_rgb, actual_rgb)))\n",
    "    euclidean_distances.append(distance)\n",
    "\n",
    "# Calculate average Euclidean distance for all predictions\n",
    "avg_euclidean_distance_logistic_regression = np.mean(euclidean_distances)\n",
    "\n",
    "# The Euclidean distance measures the spatial or geometric distance between two colors in the RGB color space.\n",
    "# In the RGB color space, each color is represented by three components: red (R), green (G), and blue (B). \n",
    "# The Euclidean distance calculates the straight-line distance between two colors in this three-dimensional space.\n",
    "\n",
    "# Print average Euclidean distance for all predictions\n",
    "print(\"Average Euclidean Distance for All Predictions:\", avg_euclidean_distance_logistic_regression)"
   ]
  }
 ],
 "metadata": {
  "kernelspec": {
   "display_name": "Python 3 (ipykernel)",
   "language": "python",
   "name": "python3"
  },
  "language_info": {
   "codemirror_mode": {
    "name": "ipython",
    "version": 3
   },
   "file_extension": ".py",
   "mimetype": "text/x-python",
   "name": "python",
   "nbconvert_exporter": "python",
   "pygments_lexer": "ipython3",
   "version": "3.7.16"
  }
 },
 "nbformat": 4,
 "nbformat_minor": 5
}
